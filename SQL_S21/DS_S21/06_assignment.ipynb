{
  "cells": [
    {
      "cell_type": "markdown",
      "id": "f59af801-5930-4a03-984c-f3a63d29a5ba",
      "metadata": {
        "id": "f59af801-5930-4a03-984c-f3a63d29a5ba"
      },
      "source": [
        "# Задание"
      ]
    },
    {
      "cell_type": "code",
      "execution_count": 2,
      "id": "de25621d-4eda-459b-a1da-2c21813eea1c",
      "metadata": {
        "id": "de25621d-4eda-459b-a1da-2c21813eea1c",
        "colab": {
          "base_uri": "https://localhost:8080/"
        },
        "outputId": "638b95ad-6bb1-4cb6-c949-99ee45da7710"
      },
      "outputs": [
        {
          "output_type": "stream",
          "name": "stdout",
          "text": [
            "Requirement already satisfied: sympy in /usr/local/lib/python3.10/dist-packages (1.12)\n",
            "Requirement already satisfied: mpmath>=0.19 in /usr/local/lib/python3.10/dist-packages (from sympy) (1.3.0)\n"
          ]
        }
      ],
      "source": [
        "!pip install sympy                      # Установка библиотеки sympy с помощью pip.\n",
        "import sympy as sp                      # Импорт библиотеки sympy как sp. Она используется для символьных вычислений.\n",
        "import numpy as np                      # Импорт библиотеки Numpy как np. Она используется для работы с массивами и матрицами в Python.\n",
        "import matplotlib.pyplot as plt         # Импорт библиотеки Matplotlib.pyplot как plt. Она используется для создания графиков и визуализации данных.\n",
        "from sympy import symbols, diff, pprint # Импорт 3-х необходимых функции из библиотеки SymPy.\n"
      ]
    },
    {
      "cell_type": "markdown",
      "id": "35d995e1-34e1-450c-a88d-96104b2df726",
      "metadata": {
        "id": "35d995e1-34e1-450c-a88d-96104b2df726"
      },
      "source": [
        "## Task 1\n",
        "1. Установи библиотеку `sympy`.\n",
        "2. Используя ее функции, напиши свою функцию, которая\n",
        "на вход примет математическую функцию `y=f(x)` вида `x**2 - x + 21`, и вернёт производную: `2𝑥−1`."
      ]
    },
    {
      "cell_type": "code",
      "execution_count": 3,
      "id": "18986719-68b3-4295-885a-4dfc0d7c5021",
      "metadata": {
        "colab": {
          "base_uri": "https://localhost:8080/"
        },
        "id": "18986719-68b3-4295-885a-4dfc0d7c5021",
        "outputId": "abab4a62-c5ba-456d-c2cd-463d0922f567"
      },
      "outputs": [
        {
          "output_type": "stream",
          "name": "stdout",
          "text": [
            "2⋅x - 1\n"
          ]
        }
      ],
      "source": [
        "x = symbols('x')    # Задаем символьную переменную 'x'.\n",
        "f = x**2 - x + 21   # Задаем функцию 'f'.\n",
        "result = diff(f, x) # Вычисляем производную функции 'f' по переменной 'x'.\n",
        "pprint(result)      # Выводим результат в красивом математическом виде.\n"
      ]
    },
    {
      "cell_type": "markdown",
      "id": "f0c49d13-79db-469a-be74-bd41777ef05a",
      "metadata": {
        "tags": [],
        "id": "f0c49d13-79db-469a-be74-bd41777ef05a"
      },
      "source": [
        "## Task 2\n",
        "1. Напиши функцию, которая на вход примет математическую функцию `p = f(x, y)`,\n",
        "зависящую от двух переменных вида `(x-y)**2`, а также ту переменную, по которой нужно посчитать частную производную.\n",
        "Функция должна вернуть частную производную по выбранной переменной."
      ]
    },
    {
      "cell_type": "code",
      "execution_count": 4,
      "id": "ad75021c-eff5-485d-b370-0815d0115b83",
      "metadata": {
        "colab": {
          "base_uri": "https://localhost:8080/"
        },
        "id": "ad75021c-eff5-485d-b370-0815d0115b83",
        "outputId": "09f49af8-5987-457f-9ab7-c8b9d5dfb45b"
      },
      "outputs": [
        {
          "output_type": "stream",
          "name": "stdout",
          "text": [
            "Производная по 'x':\n",
            "2⋅x - 2⋅y\n",
            "Производная по 'y':\n",
            "-2⋅x + 2⋅y\n"
          ]
        }
      ],
      "source": [
        "import sympy as sp\n",
        "from sympy import pprint\n",
        "x, y = sp.symbols('x y')        # Создаем символьные переменные 'x' и 'y'.\n",
        "def f(expr_str, var):\n",
        "    expr = sp.sympify(expr_str) # Преобразуем строку expr_str в символьное выражение.\n",
        "    try:\n",
        "       der = sp.diff(expr, var) # Вычесляем частную производную выражения expr по переменной var.\n",
        "       return der               # Возвращаем найденную частную производную.\n",
        "    except ValueError:\n",
        "        return f\"Выберите 'x' или 'y' в качестве переменной для производной.\"\n",
        "        # В случае неверного выбора переменной выводим сообщение об ошибке.\n",
        "\n",
        "expr_str = '(x-y)**2'  # Задаем функцию.\n",
        "\n",
        "der_x = f(expr_str, x) # Вычисляем частную производную по 'x'.\n",
        "der_y = f(expr_str, y) # Вычисляем частную производную по 'y'.\n",
        "\n",
        "# Выводим результаты с использованием pprint.\n",
        "print(\"Производная по 'x':\")\n",
        "pprint(der_x, use_unicode=True)\n",
        "print(\"Производная по 'y':\")\n",
        "pprint(der_y, use_unicode=True)\n",
        "\n"
      ]
    },
    {
      "cell_type": "markdown",
      "id": "30c90ce8-7a46-4803-809a-fd037adeea44",
      "metadata": {
        "id": "30c90ce8-7a46-4803-809a-fd037adeea44"
      },
      "source": [
        "## Task 3"
      ]
    },
    {
      "cell_type": "markdown",
      "id": "aea0c68c-85e2-4ec0-b748-7f9b3096e6d8",
      "metadata": {
        "id": "aea0c68c-85e2-4ec0-b748-7f9b3096e6d8"
      },
      "source": [
        "Представь, что у нас есть истинное значений `y_true` и предсказанное значение `y_pred`, описанное линейнным уравнением вида `y_pred = w*x + b`\n",
        "1. Выведите формулу квадратного отклонения между истинным и предсказанным значениями.\n",
        "2. Вычислите частные производные полученной формулу квадратного отклонения по переменным `w` и `b`."
      ]
    },
    {
      "cell_type": "code",
      "execution_count": null,
      "id": "f5ab9482-4e51-40fc-9a6b-e5ae4f163dc5",
      "metadata": {
        "colab": {
          "base_uri": "https://localhost:8080/"
        },
        "id": "f5ab9482-4e51-40fc-9a6b-e5ae4f163dc5",
        "outputId": "8e326d09-073e-4abf-e15e-fb6de171b88e"
      },
      "outputs": [
        {
          "output_type": "stream",
          "name": "stdout",
          "text": [
            "Градиент для w:\n",
            "-2⋅x⋅(-b - w⋅x + y)\n",
            "Градиент для b:\n",
            "2⋅b + 2⋅w⋅x - 2⋅y\n"
          ]
        }
      ],
      "source": [
        "x, y, w, b = symbols('x y w b') # Определение символьных переменных.\n",
        "y_pred = w * x + b              # Уравнение для предсказанных значений.\n",
        "y_true = y                      # y_true - это истинное значение, которое мы хотим сравнить с предсказанным значением y_pred.\n",
        "mse = (y - y_pred)**2           # Формула квадратного отклонения (MSE).\n",
        "gradient_w = diff(mse, w)       # Вычисление частной производной MSE по 'w'\n",
        "gradient_b = diff(mse, b)       # Вычисление частной производной MSE по 'b'\n",
        "\n",
        "print(\"Градиент для w:\")\n",
        "pprint(gradient_w, use_unicode=True)\n",
        "\n",
        "print(\"Градиент для b:\")\n",
        "pprint(gradient_b, use_unicode=True)"
      ]
    },
    {
      "cell_type": "markdown",
      "id": "75ea75df-da98-4687-b921-47e1eb0b63cb",
      "metadata": {
        "id": "75ea75df-da98-4687-b921-47e1eb0b63cb"
      },
      "source": [
        "## Task 4\n",
        "Теперь мы с вами подошли к самому главному - реализации алгоритма [градиентного спуска](http://www.machinelearning.ru/wiki/index.php?title=%D0%9C%D0%B5%D1%82%D0%BE%D0%B4_%D0%B3%D1%80%D0%B0%D0%B4%D0%B8%D0%B5%D0%BD%D1%82%D0%BD%D0%BE%D0%B3%D0%BE_%D1%81%D0%BF%D1%83%D1%81%D0%BA%D0%B0).\n",
        "1. В этот раз тебе нужно написать класс `Gradient()`, который будет состоять из нескольких методов. Объект при\n",
        "инициализации получает два вектора: `X`, `Y`. Далее методы обращаются к ним уже внутри класса:\n",
        "     * `predict`: на вход она получает `w`, `b`, на выход она выдаёт прогнозные значения `Y_pred`;\n",
        "     * `mse`: на вход она получает `Y_pred`, на выход выдает посчитанное MSE;\n",
        "     * `update`: на вход она получает `w`, `b` и `a` (наш learning rate). Сделайте по умолчанию значение `a=0.0001`. А на \\\n",
        "выходe метод выдаёт новые значения `w`, `b`, которые обновились благодаря посчитанным градиентам.\n",
        "2. Проверь работу методов, подав на вход класса два вектора `X`, `Y` и начальные параметры `w`, `b` в требуемые методы.\n",
        "\n",
        "P.S. Тут лучше все писать через numpy, потому что все вычисления будут в векторном виде. Через numpy это будет сделать удобнее)"
      ]
    },
    {
      "cell_type": "code",
      "execution_count": null,
      "id": "b4bb1337-6f9c-49dc-bbc0-5952b12121ae",
      "metadata": {
        "id": "b4bb1337-6f9c-49dc-bbc0-5952b12121ae"
      },
      "outputs": [],
      "source": [
        "X = np.array(\n",
        "    [32.50234527, 53.42680403, 61.53035803, 47.47563963, 59.81320787, 55.14218841,\n",
        "     52.21179669, 39.29956669, 48.10504169, 52.55001444, 45.41973014, 54.35163488,\n",
        "     44.1640495 , 58.16847072, 56.72720806, 48.95588857, 44.68719623, 60.29732685,\n",
        "     45.61864377, 38.81681754]\n",
        ")\n",
        "Y = np.array(\n",
        "    [31.70700585, 68.77759598, 62.5623823 , 71.54663223, 87.23092513, 78.21151827,\n",
        "     79.64197305, 59.17148932, 75.3312423 , 71.30087989, 55.16567715, 82.47884676,\n",
        "     62.00892325, 75.39287043, 81.43619216, 60.72360244, 82.89250373, 97.37989686,\n",
        "     48.84715332, 56.87721319]\n",
        ")"
      ]
    },
    {
      "cell_type": "code",
      "execution_count": null,
      "id": "2b5a7a87-eb43-456f-adf3-add9b502e3e1",
      "metadata": {
        "id": "2b5a7a87-eb43-456f-adf3-add9b502e3e1",
        "outputId": "aa4f99d6-7320-499d-8283-cc79ce09259c",
        "colab": {
          "base_uri": "https://localhost:8080/",
          "height": 432
        }
      },
      "outputs": [
        {
          "output_type": "display_data",
          "data": {
            "text/plain": [
              "<Figure size 640x480 with 1 Axes>"
            ],
            "image/png": "[encoded data removed]"
          },
          "metadata": {}
        }
      ],
      "source": [
        "plt.scatter(X, Y);"
      ]
    },
    {
      "cell_type": "code",
      "execution_count": null,
      "id": "99ad34a1-5c67-4430-84ad-dc77ac8b657f",
      "metadata": {
        "colab": {
          "base_uri": "https://localhost:8080/"
        },
        "id": "99ad34a1-5c67-4430-84ad-dc77ac8b657f",
        "outputId": "6e6f37dd-df50-480c-f370-51fbab2d97bb"
      },
      "outputs": [
        {
          "output_type": "stream",
          "name": "stdout",
          "text": [
            "mse = 1784.8517253411974\n",
            "w_new = 0.9150528224014477\n",
            "b_new = 4.00809052559105\n"
          ]
        }
      ],
      "source": [
        "class Gradient:\n",
        "    def __init__(self, X, Y):         # Инициализация класса. X - набор данных признаков, Y - набор истинных значений.\n",
        "        self.X = X                    # Сохраняем данные признаков в объекте класса.\n",
        "        self.Y = Y                    # Сохраняем истинные значения в объекте класса.\n",
        "\n",
        "    def predict(self, w, b):          # Метод для вычисления прогнозных значений на основе весов w и сдвига b.\n",
        "        return w * self.X + b         # Линейное уравнение для предсказаний.\n",
        "\n",
        "    def mse(self, w, b):              # Метод для вычисления среднеквадратичной ошибки (MSE) между истинными и прогнозными значениями.\n",
        "        Y_pred = self.predict(w, b)   # Получаем прогнозные значения.\n",
        "        return ((self.Y - Y_pred) ** 2).mean() # Вычисляем MSE.\n",
        "\n",
        "    def update(self, w, b, a=0.0001): # Метод для обновления весов w и сдвига b с использованием градиентного спуска.\n",
        "        n = len(self.Y)               # Получаем количество элементов в выборке.\n",
        "        Y_pred = self.predict(w, b)   # Получаем прогнозные значения.\n",
        "\n",
        "        # Вычисляем градиенты\n",
        "        dw = -2 / n * sum(self.X * (self.Y - Y_pred)) # Градиент для w.\n",
        "        db = -2 / n * sum(self.Y - Y_pred)            # Градиент для b.\n",
        "\n",
        "        # Обновляем веса с учетом learning rate (a).\n",
        "\n",
        "        w -= a * dw   # Обновление весов w.\n",
        "        b -= a * db   # Обновление сдвига b.\n",
        "\n",
        "        return w, b   # Возвращаем обновленные веса и сдвиг.\n",
        "\n",
        "w = 0.5               # Задаем начальное значение веса w.\n",
        "b = 4                 # Задаем начальное значение сдвига b.\n",
        "\n",
        "grad = Gradient(X, Y) # Создаем объект класса Gradient, передавая ему данные X и Y.\n",
        "\n",
        "Y_pred = grad.predict(w, b) # Вычисляем прогнозные значения Y_pred на основе начальных весов w и сдвига b.\n",
        "\n",
        "print(f'mse = {grad.mse(w, b)}') # Выводим значение среднеквадратичной ошибки (MSE) между истинными Y и Y_pred.\n",
        "\n",
        "# Обновляем значения веса w и сдвига b с использованием градиентного спуска и сохраняем новые значения в переменных w_new и b_new.\n",
        "w_new, b_new = grad.update(w, b)\n",
        "\n",
        "# Выводим новые значения веса w и сдвига b после обновления.\n",
        "print(f'w_new = {w_new}')\n",
        "print(f'b_new = {b_new}')\n",
        "\n",
        "\n"
      ]
    },
    {
      "cell_type": "markdown",
      "id": "f2f68272-33ed-4c97-a97e-4216b1ab2ef4",
      "metadata": {
        "id": "f2f68272-33ed-4c97-a97e-4216b1ab2ef4"
      },
      "source": [
        "## Task 5\n",
        "Улучшите ваш код таким образом, чтобы появился метод `optimize`. На вход метод принимает `num_iterations`,\n",
        "`stopping_threshold=0.001`, `a=0.000001`.\n",
        "Метод должен итеративным образом пройти какое-то количество раз обновление значений `w`, `b`,\n",
        "придя к оптимальному значению. Критерии останова:\n",
        "  * если было превышено количество заранее заданных итераций `num_iterations`;\n",
        "  * если новая итерация выдала разницу между текущей ошибкой и ошибкой прошлой итерации значение, меньшее, чем `stopping_threshold`;\n",
        "  * метод должен вернуть финальные значения `w`, `b`, и `mse`."
      ]
    },
    {
      "cell_type": "code",
      "execution_count": null,
      "id": "07200188-e4ff-4c8b-a2a7-42de3772f11a",
      "metadata": {
        "colab": {
          "base_uri": "https://localhost:8080/"
        },
        "id": "07200188-e4ff-4c8b-a2a7-42de3772f11a",
        "outputId": "1ece0e65-97eb-4505-df76-cfea29dbfc80"
      },
      "outputs": [
        {
          "output_type": "stream",
          "name": "stdout",
          "text": [
            "Final w = 1.3057658636163776\n",
            "Final b = 4.0155115149294085\n",
            "Final MSE = 99.39372468794025\n"
          ]
        }
      ],
      "source": [
        "class Gradient:\n",
        "    def __init__(self, X, Y):\n",
        "        self.X = X  # Сохраняем данные признаков в объекте класса.\n",
        "        self.Y = Y  # Сохраняем истинные значения в объекте класса.\n",
        "\n",
        "    def predict(self, w, b):\n",
        "        return w * self.X + b  # Линейное уравнение для предсказаний.\n",
        "\n",
        "    def mse(self, w, b):\n",
        "        Y_pred = self.predict(w, b)  # Получаем прогнозные значения.\n",
        "        return ((self.Y - Y_pred) ** 2).mean()  # Вычисляем MSE.\n",
        "\n",
        "    def update(self, w, b, a=0.0001):\n",
        "        n = len(self.Y)   # Получаем количество элементов в выборке.\n",
        "        Y_pred = self.predict(w, b)  # Получаем прогнозные значения.\n",
        "\n",
        "        # Вычисляем градиенты\n",
        "        dw = -2 / n * sum(self.X * (self.Y - Y_pred))  # Градиент для w.\n",
        "        db = -2 / n * sum(self.Y - Y_pred)             # Градиент для b.\n",
        "\n",
        "        # Обновляем веса с учетом learning rate (a).\n",
        "        w -= a * dw  # Обновление весов w.\n",
        "        b -= a * db  # Обновление сдвига b.\n",
        "\n",
        "        return w, b  # Возвращаем обновленные веса и сдвиг.\n",
        "\n",
        "    def optimize(self, num_iterations, stopping_threshold=0.001, a=0.000001):\n",
        "        w, b = 0.5, 4            # Задаем начальные значения веса w и сдвига b.\n",
        "        prev_mse = float('inf')  # Изначально задаем предыдущее значение MSE как бесконечность.\n",
        "\n",
        "        for i in range(num_iterations):\n",
        "            mse_value = self.mse(w, b)  # Вычисляем текущее значение MSE.\n",
        "\n",
        "            # Проверяем условие останова.\n",
        "            if abs(prev_mse - mse_value) < stopping_threshold:\n",
        "                break\n",
        "\n",
        "            prev_mse = mse_value # Обновляем предыдущее значение MSE.\n",
        "            w, b = self.update(w, b, a) # Обновляем веса и сдвиг.\n",
        "\n",
        "        return w, b, mse_value   # Возвращаем финальные значения w, b и MSE.\n",
        "\n",
        "grad = Gradient(X, Y)               # Создаем объект класса Gradient, передавая ему данные X и Y.\n",
        "final_w, final_b, final_mse = grad.optimize(num_iterations=1000) # Оптимизируем параметры модели.\n",
        "\n",
        "print(f'Final w = {final_w}') # Выводим финальное значение веса w.\n",
        "print(f'Final b = {final_b}') # Выводим финальное значение сдвига b.\n",
        "print(f'Final MSE = {final_mse}') # Выводим финальное значение MSE.\n",
        "\n",
        "\n"
      ]
    }
  ],
  "metadata": {
    "kernelspec": {
      "display_name": "Python 3 (ipykernel)",
      "language": "python",
      "name": "python3"
    },
    "language_info": {
      "codemirror_mode": {
        "name": "ipython",
        "version": 3
      },
      "file_extension": ".py",
      "mimetype": "text/x-python",
      "name": "python",
      "nbconvert_exporter": "python",
      "pygments_lexer": "ipython3",
      "version": "3.9.6"
    },
    "colab": {
      "provenance": []
    }
  },
  "nbformat": 4,
  "nbformat_minor": 5
}