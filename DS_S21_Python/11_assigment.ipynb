{
  "cells": [
    {
      "cell_type": "markdown",
      "id": "7da6badd",
      "metadata": {
        "id": "7da6badd"
      },
      "source": [
        "# Задания"
      ]
    },
    {
      "cell_type": "code",
      "execution_count": 1,
      "id": "a5684e7c",
      "metadata": {
        "colab": {
          "base_uri": "https://localhost:8080/",
          "height": 174
        },
        "id": "a5684e7c",
        "outputId": "9ddc71be-f3a4-4aeb-a133-d1eff47ffefd"
      },
      "outputs": [
        {
          "output_type": "stream",
          "name": "stderr",
          "text": [
            "Downloading...\n",
            "From: https://drive.google.com/uc?id=1RgGi7QhHLXbeqhk8KjIReLYmskj6uJ7z\n",
            "To: /content/click.csv\n",
            "100%|██████████| 4.02k/4.02k [00:00<00:00, 10.5MB/s]\n",
            "Downloading...\n",
            "From: https://drive.google.com/uc?id=1DioViKYMAWQ0L5dxFOSvJnjbdJEpBHAx\n",
            "To: /content/pizza.csv\n",
            "100%|██████████| 922k/922k [00:00<00:00, 41.1MB/s]\n"
          ]
        },
        {
          "output_type": "execute_result",
          "data": {
            "text/plain": [
              "'pizza.csv'"
            ],
            "application/vnd.google.colaboratory.intrinsic+json": {
              "type": "string"
            }
          },
          "metadata": {},
          "execution_count": 1
        }
      ],
      "source": [
        "import gdown\n",
        "import numpy as np\n",
        "import matplotlib.pyplot as plt\n",
        "import pandas as pd\n",
        "import datetime as dt\n",
        "import scipy.stats as st\n",
        "from datetime import timedelta\n",
        "import seaborn as sns\n",
        "import scipy\n",
        "from scipy.stats import norm\n",
        "\n",
        "gdown.download(\"https://drive.google.com/uc?id=1RgGi7QhHLXbeqhk8KjIReLYmskj6uJ7z\", \"click.csv\", quiet=False)\n",
        "gdown.download(\"https://drive.google.com/uc?id=1DioViKYMAWQ0L5dxFOSvJnjbdJEpBHAx\", \"pizza.csv\", quiet=False)"
      ]
    },
    {
      "cell_type": "markdown",
      "id": "a788fc8d",
      "metadata": {
        "id": "a788fc8d"
      },
      "source": [
        "## Доверительные интервалы"
      ]
    },
    {
      "cell_type": "markdown",
      "id": "28ef55c5",
      "metadata": {
        "id": "28ef55c5"
      },
      "source": [
        "### Задание 1"
      ]
    },
    {
      "cell_type": "markdown",
      "id": "84673cba",
      "metadata": {
        "id": "84673cba"
      },
      "source": [
        "Построй диаграмму зависимости количества проданной пиццы от дня недели.\n",
        "Вывести дни недели, в которые продано **больше** и  **меньше** всего пиццы."
      ]
    },
    {
      "cell_type": "code",
      "execution_count": 2,
      "id": "aaae64d7",
      "metadata": {
        "colab": {
          "base_uri": "https://localhost:8080/",
          "height": 424
        },
        "id": "aaae64d7",
        "outputId": "f7266ae4-1595-4cab-cab4-b477ef9dbc63"
      },
      "outputs": [
        {
          "output_type": "execute_result",
          "data": {
            "text/plain": [
              "      order_details_id  order_id        pizza_id           order_date  \\\n",
              "0                    1         1      hawaiian_m  2015-01-01 00:00:00   \n",
              "1                    2         2   classic_dlx_m  2015-01-01 00:00:00   \n",
              "2                    3         2   five_cheese_l  2015-01-01 00:00:00   \n",
              "3                    4         2     ital_supr_l  2015-01-01 00:00:00   \n",
              "4                    5         2      mexicana_m  2015-01-01 00:00:00   \n",
              "...                ...       ...             ...                  ...   \n",
              "4995              4996      2209    southw_ckn_l  2015-02-06 00:00:00   \n",
              "4996              4997      2209    spicy_ital_s  2015-02-06 00:00:00   \n",
              "4997              4998      2209    veggie_veg_s  2015-02-06 00:00:00   \n",
              "4998              4999      2210   classic_dlx_s  2015-02-06 00:00:00   \n",
              "4999              5000      2211  green_garden_s  2015-02-06 00:00:00   \n",
              "\n",
              "     order_time unit_price total_price pizza_size pizza_category  \\\n",
              "0      11:38:36      13,25       13,25          M        Classic   \n",
              "1      11:57:40         16          16          M        Classic   \n",
              "2      11:57:40       18,5        18,5          L         Veggie   \n",
              "3      11:57:40      20,75       20,75          L        Supreme   \n",
              "4      11:57:40         16          16          M         Veggie   \n",
              "...         ...        ...         ...        ...            ...   \n",
              "4995   17:11:37      20,75       20,75          L        Chicken   \n",
              "4996   17:11:37       12,5        12,5          S        Supreme   \n",
              "4997   17:11:37         12          12          S         Veggie   \n",
              "4998   17:24:07         12          12          S        Classic   \n",
              "4999   17:30:36         12          12          S         Veggie   \n",
              "\n",
              "                                      pizza_ingredients  \\\n",
              "0              Sliced Ham, Pineapple, Mozzarella Cheese   \n",
              "1     Pepperoni, Mushrooms, Red Onions, Red Peppers,...   \n",
              "2     Mozzarella Cheese, Provolone Cheese, Smoked Go...   \n",
              "3     Calabrese Salami, Capocollo, Tomatoes, Red Oni...   \n",
              "4     Tomatoes, Red Peppers, Jalapeno Peppers, Red O...   \n",
              "...                                                 ...   \n",
              "4995  Chicken, Tomatoes, Red Peppers, Red Onions, Ja...   \n",
              "4996  Capocollo, Tomatoes, Goat Cheese, Artichokes, ...   \n",
              "4997  Mushrooms, Tomatoes, Red Peppers, Green Pepper...   \n",
              "4998  Pepperoni, Mushrooms, Red Onions, Red Peppers,...   \n",
              "4999  Spinach, Mushrooms, Tomatoes, Green Olives, Fe...   \n",
              "\n",
              "                             pizza_name            lead_time  \n",
              "0                    The Hawaiian Pizza  2015-01-01 11:53:30  \n",
              "1              The Classic Deluxe Pizza  2015-01-01 12:16:26  \n",
              "2                 The Five Cheese Pizza  2015-01-01 12:16:19  \n",
              "3             The Italian Supreme Pizza  2015-01-01 12:10:58  \n",
              "4                    The Mexicana Pizza  2015-01-01 12:14:24  \n",
              "...                                 ...                  ...  \n",
              "4995        The Southwest Chicken Pizza  2015-02-06 17:27:19  \n",
              "4996            The Spicy Italian Pizza  2015-02-06 17:27:34  \n",
              "4997  The Vegetables + Vegetables Pizza  2015-02-06 17:28:17  \n",
              "4998           The Classic Deluxe Pizza  2015-02-06 17:44:05  \n",
              "4999             The Green Garden Pizza  2015-02-06 17:47:04  \n",
              "\n",
              "[5000 rows x 12 columns]"
            ],
            "text/html": [
              "\n",
              "  <div id=\"df-d8022ee6-e66b-4174-9f84-261b4c56479a\" class=\"colab-df-container\">\n",
              "    <div>\n",
              "<style scoped>\n",
              "    .dataframe tbody tr th:only-of-type {\n",
              "        vertical-align: middle;\n",
              "    }\n",
              "\n",
              "    .dataframe tbody tr th {\n",
              "        vertical-align: top;\n",
              "    }\n",
              "\n",
              "    .dataframe thead th {\n",
              "        text-align: right;\n",
              "    }\n",
              "</style>\n",
              "<table border=\"1\" class=\"dataframe\">\n",
              "  <thead>\n",
              "    <tr style=\"text-align: right;\">\n",
              "      <th></th>\n",
              "      <th>order_details_id</th>\n",
              "      <th>order_id</th>\n",
              "      <th>pizza_id</th>\n",
              "      <th>order_date</th>\n",
              "      <th>order_time</th>\n",
              "      <th>unit_price</th>\n",
              "      <th>total_price</th>\n",
              "      <th>pizza_size</th>\n",
              "      <th>pizza_category</th>\n",
              "      <th>pizza_ingredients</th>\n",
              "      <th>pizza_name</th>\n",
              "      <th>lead_time</th>\n",
              "    </tr>\n",
              "  </thead>\n",
              "  <tbody>\n",
              "    <tr>\n",
              "      <th>0</th>\n",
              "      <td>1</td>\n",
              "      <td>1</td>\n",
              "      <td>hawaiian_m</td>\n",
              "      <td>2015-01-01 00:00:00</td>\n",
              "      <td>11:38:36</td>\n",
              "      <td>13,25</td>\n",
              "      <td>13,25</td>\n",
              "      <td>M</td>\n",
              "      <td>Classic</td>\n",
              "      <td>Sliced Ham, Pineapple, Mozzarella Cheese</td>\n",
              "      <td>The Hawaiian Pizza</td>\n",
              "      <td>2015-01-01 11:53:30</td>\n",
              "    </tr>\n",
              "    <tr>\n",
              "      <th>1</th>\n",
              "      <td>2</td>\n",
              "      <td>2</td>\n",
              "      <td>classic_dlx_m</td>\n",
              "      <td>2015-01-01 00:00:00</td>\n",
              "      <td>11:57:40</td>\n",
              "      <td>16</td>\n",
              "      <td>16</td>\n",
              "      <td>M</td>\n",
              "      <td>Classic</td>\n",
              "      <td>Pepperoni, Mushrooms, Red Onions, Red Peppers,...</td>\n",
              "      <td>The Classic Deluxe Pizza</td>\n",
              "      <td>2015-01-01 12:16:26</td>\n",
              "    </tr>\n",
              "    <tr>\n",
              "      <th>2</th>\n",
              "      <td>3</td>\n",
              "      <td>2</td>\n",
              "      <td>five_cheese_l</td>\n",
              "      <td>2015-01-01 00:00:00</td>\n",
              "      <td>11:57:40</td>\n",
              "      <td>18,5</td>\n",
              "      <td>18,5</td>\n",
              "      <td>L</td>\n",
              "      <td>Veggie</td>\n",
              "      <td>Mozzarella Cheese, Provolone Cheese, Smoked Go...</td>\n",
              "      <td>The Five Cheese Pizza</td>\n",
              "      <td>2015-01-01 12:16:19</td>\n",
              "    </tr>\n",
              "    <tr>\n",
              "      <th>3</th>\n",
              "      <td>4</td>\n",
              "      <td>2</td>\n",
              "      <td>ital_supr_l</td>\n",
              "      <td>2015-01-01 00:00:00</td>\n",
              "      <td>11:57:40</td>\n",
              "      <td>20,75</td>\n",
              "      <td>20,75</td>\n",
              "      <td>L</td>\n",
              "      <td>Supreme</td>\n",
              "      <td>Calabrese Salami, Capocollo, Tomatoes, Red Oni...</td>\n",
              "      <td>The Italian Supreme Pizza</td>\n",
              "      <td>2015-01-01 12:10:58</td>\n",
              "    </tr>\n",
              "    <tr>\n",
              "      <th>4</th>\n",
              "      <td>5</td>\n",
              "      <td>2</td>\n",
              "      <td>mexicana_m</td>\n",
              "      <td>2015-01-01 00:00:00</td>\n",
              "      <td>11:57:40</td>\n",
              "      <td>16</td>\n",
              "      <td>16</td>\n",
              "      <td>M</td>\n",
              "      <td>Veggie</td>\n",
              "      <td>Tomatoes, Red Peppers, Jalapeno Peppers, Red O...</td>\n",
              "      <td>The Mexicana Pizza</td>\n",
              "      <td>2015-01-01 12:14:24</td>\n",
              "    </tr>\n",
              "    <tr>\n",
              "      <th>...</th>\n",
              "      <td>...</td>\n",
              "      <td>...</td>\n",
              "      <td>...</td>\n",
              "      <td>...</td>\n",
              "      <td>...</td>\n",
              "      <td>...</td>\n",
              "      <td>...</td>\n",
              "      <td>...</td>\n",
              "      <td>...</td>\n",
              "      <td>...</td>\n",
              "      <td>...</td>\n",
              "      <td>...</td>\n",
              "    </tr>\n",
              "    <tr>\n",
              "      <th>4995</th>\n",
              "      <td>4996</td>\n",
              "      <td>2209</td>\n",
              "      <td>southw_ckn_l</td>\n",
              "      <td>2015-02-06 00:00:00</td>\n",
              "      <td>17:11:37</td>\n",
              "      <td>20,75</td>\n",
              "      <td>20,75</td>\n",
              "      <td>L</td>\n",
              "      <td>Chicken</td>\n",
              "      <td>Chicken, Tomatoes, Red Peppers, Red Onions, Ja...</td>\n",
              "      <td>The Southwest Chicken Pizza</td>\n",
              "      <td>2015-02-06 17:27:19</td>\n",
              "    </tr>\n",
              "    <tr>\n",
              "      <th>4996</th>\n",
              "      <td>4997</td>\n",
              "      <td>2209</td>\n",
              "      <td>spicy_ital_s</td>\n",
              "      <td>2015-02-06 00:00:00</td>\n",
              "      <td>17:11:37</td>\n",
              "      <td>12,5</td>\n",
              "      <td>12,5</td>\n",
              "      <td>S</td>\n",
              "      <td>Supreme</td>\n",
              "      <td>Capocollo, Tomatoes, Goat Cheese, Artichokes, ...</td>\n",
              "      <td>The Spicy Italian Pizza</td>\n",
              "      <td>2015-02-06 17:27:34</td>\n",
              "    </tr>\n",
              "    <tr>\n",
              "      <th>4997</th>\n",
              "      <td>4998</td>\n",
              "      <td>2209</td>\n",
              "      <td>veggie_veg_s</td>\n",
              "      <td>2015-02-06 00:00:00</td>\n",
              "      <td>17:11:37</td>\n",
              "      <td>12</td>\n",
              "      <td>12</td>\n",
              "      <td>S</td>\n",
              "      <td>Veggie</td>\n",
              "      <td>Mushrooms, Tomatoes, Red Peppers, Green Pepper...</td>\n",
              "      <td>The Vegetables + Vegetables Pizza</td>\n",
              "      <td>2015-02-06 17:28:17</td>\n",
              "    </tr>\n",
              "    <tr>\n",
              "      <th>4998</th>\n",
              "      <td>4999</td>\n",
              "      <td>2210</td>\n",
              "      <td>classic_dlx_s</td>\n",
              "      <td>2015-02-06 00:00:00</td>\n",
              "      <td>17:24:07</td>\n",
              "      <td>12</td>\n",
              "      <td>12</td>\n",
              "      <td>S</td>\n",
              "      <td>Classic</td>\n",
              "      <td>Pepperoni, Mushrooms, Red Onions, Red Peppers,...</td>\n",
              "      <td>The Classic Deluxe Pizza</td>\n",
              "      <td>2015-02-06 17:44:05</td>\n",
              "    </tr>\n",
              "    <tr>\n",
              "      <th>4999</th>\n",
              "      <td>5000</td>\n",
              "      <td>2211</td>\n",
              "      <td>green_garden_s</td>\n",
              "      <td>2015-02-06 00:00:00</td>\n",
              "      <td>17:30:36</td>\n",
              "      <td>12</td>\n",
              "      <td>12</td>\n",
              "      <td>S</td>\n",
              "      <td>Veggie</td>\n",
              "      <td>Spinach, Mushrooms, Tomatoes, Green Olives, Fe...</td>\n",
              "      <td>The Green Garden Pizza</td>\n",
              "      <td>2015-02-06 17:47:04</td>\n",
              "    </tr>\n",
              "  </tbody>\n",
              "</table>\n",
              "<p>5000 rows × 12 columns</p>\n",
              "</div>\n",
              "    <div class=\"colab-df-buttons\">\n",
              "\n",
              "  <div class=\"colab-df-container\">\n",
              "    <button class=\"colab-df-convert\" onclick=\"convertToInteractive('df-d8022ee6-e66b-4174-9f84-261b4c56479a')\"\n",
              "            title=\"Convert this dataframe to an interactive table.\"\n",
              "            style=\"display:none;\">\n",
              "\n",
              "  <svg xmlns=\"http://www.w3.org/2000/svg\" height=\"24px\" viewBox=\"0 -960 960 960\">\n",
              "    <path d=\"M120-120v-720h720v720H120Zm60-500h600v-160H180v160Zm220 220h160v-160H400v160Zm0 220h160v-160H400v160ZM180-400h160v-160H180v160Zm440 0h160v-160H620v160ZM180-180h160v-160H180v160Zm440 0h160v-160H620v160Z\"/>\n",
              "  </svg>\n",
              "    </button>\n",
              "\n",
              "  <style>\n",
              "    .colab-df-container {\n",
              "      display:flex;\n",
              "      gap: 12px;\n",
              "    }\n",
              "\n",
              "    .colab-df-convert {\n",
              "      background-color: #E8F0FE;\n",
              "      border: none;\n",
              "      border-radius: 50%;\n",
              "      cursor: pointer;\n",
              "      display: none;\n",
              "      fill: #1967D2;\n",
              "      height: 32px;\n",
              "      padding: 0 0 0 0;\n",
              "      width: 32px;\n",
              "    }\n",
              "\n",
              "    .colab-df-convert:hover {\n",
              "      background-color: #E2EBFA;\n",
              "      box-shadow: 0px 1px 2px rgba(60, 64, 67, 0.3), 0px 1px 3px 1px rgba(60, 64, 67, 0.15);\n",
              "      fill: #174EA6;\n",
              "    }\n",
              "\n",
              "    .colab-df-buttons div {\n",
              "      margin-bottom: 4px;\n",
              "    }\n",
              "\n",
              "    [theme=dark] .colab-df-convert {\n",
              "      background-color: #3B4455;\n",
              "      fill: #D2E3FC;\n",
              "    }\n",
              "\n",
              "    [theme=dark] .colab-df-convert:hover {\n",
              "      background-color: #434B5C;\n",
              "      box-shadow: 0px 1px 3px 1px rgba(0, 0, 0, 0.15);\n",
              "      filter: drop-shadow(0px 1px 2px rgba(0, 0, 0, 0.3));\n",
              "      fill: #FFFFFF;\n",
              "    }\n",
              "  </style>\n",
              "\n",
              "    <script>\n",
              "      const buttonEl =\n",
              "        document.querySelector('#df-d8022ee6-e66b-4174-9f84-261b4c56479a button.colab-df-convert');\n",
              "      buttonEl.style.display =\n",
              "        google.colab.kernel.accessAllowed ? 'block' : 'none';\n",
              "\n",
              "      async function convertToInteractive(key) {\n",
              "        const element = document.querySelector('#df-d8022ee6-e66b-4174-9f84-261b4c56479a');\n",
              "        const dataTable =\n",
              "          await google.colab.kernel.invokeFunction('convertToInteractive',\n",
              "                                                    [key], {});\n",
              "        if (!dataTable) return;\n",
              "\n",
              "        const docLinkHtml = 'Like what you see? Visit the ' +\n",
              "          '<a target=\"_blank\" href=https://colab.research.google.com/notebooks/data_table.ipynb>data table notebook</a>'\n",
              "          + ' to learn more about interactive tables.';\n",
              "        element.innerHTML = '';\n",
              "        dataTable['output_type'] = 'display_data';\n",
              "        await google.colab.output.renderOutput(dataTable, element);\n",
              "        const docLink = document.createElement('div');\n",
              "        docLink.innerHTML = docLinkHtml;\n",
              "        element.appendChild(docLink);\n",
              "      }\n",
              "    </script>\n",
              "  </div>\n",
              "\n",
              "\n",
              "<div id=\"df-5a3d4e55-d25e-48e7-a455-02dbbfadabd5\">\n",
              "  <button class=\"colab-df-quickchart\" onclick=\"quickchart('df-5a3d4e55-d25e-48e7-a455-02dbbfadabd5')\"\n",
              "            title=\"Suggest charts.\"\n",
              "            style=\"display:none;\">\n",
              "\n",
              "<svg xmlns=\"http://www.w3.org/2000/svg\" height=\"24px\"viewBox=\"0 0 24 24\"\n",
              "     width=\"24px\">\n",
              "    <g>\n",
              "        <path d=\"M19 3H5c-1.1 0-2 .9-2 2v14c0 1.1.9 2 2 2h14c1.1 0 2-.9 2-2V5c0-1.1-.9-2-2-2zM9 17H7v-7h2v7zm4 0h-2V7h2v10zm4 0h-2v-4h2v4z\"/>\n",
              "    </g>\n",
              "</svg>\n",
              "  </button>\n",
              "\n",
              "<style>\n",
              "  .colab-df-quickchart {\n",
              "      --bg-color: #E8F0FE;\n",
              "      --fill-color: #1967D2;\n",
              "      --hover-bg-color: #E2EBFA;\n",
              "      --hover-fill-color: #174EA6;\n",
              "      --disabled-fill-color: #AAA;\n",
              "      --disabled-bg-color: #DDD;\n",
              "  }\n",
              "\n",
              "  [theme=dark] .colab-df-quickchart {\n",
              "      --bg-color: #3B4455;\n",
              "      --fill-color: #D2E3FC;\n",
              "      --hover-bg-color: #434B5C;\n",
              "      --hover-fill-color: #FFFFFF;\n",
              "      --disabled-bg-color: #3B4455;\n",
              "      --disabled-fill-color: #666;\n",
              "  }\n",
              "\n",
              "  .colab-df-quickchart {\n",
              "    background-color: var(--bg-color);\n",
              "    border: none;\n",
              "    border-radius: 50%;\n",
              "    cursor: pointer;\n",
              "    display: none;\n",
              "    fill: var(--fill-color);\n",
              "    height: 32px;\n",
              "    padding: 0;\n",
              "    width: 32px;\n",
              "  }\n",
              "\n",
              "  .colab-df-quickchart:hover {\n",
              "    background-color: var(--hover-bg-color);\n",
              "    box-shadow: 0 1px 2px rgba(60, 64, 67, 0.3), 0 1px 3px 1px rgba(60, 64, 67, 0.15);\n",
              "    fill: var(--button-hover-fill-color);\n",
              "  }\n",
              "\n",
              "  .colab-df-quickchart-complete:disabled,\n",
              "  .colab-df-quickchart-complete:disabled:hover {\n",
              "    background-color: var(--disabled-bg-color);\n",
              "    fill: var(--disabled-fill-color);\n",
              "    box-shadow: none;\n",
              "  }\n",
              "\n",
              "  .colab-df-spinner {\n",
              "    border: 2px solid var(--fill-color);\n",
              "    border-color: transparent;\n",
              "    border-bottom-color: var(--fill-color);\n",
              "    animation:\n",
              "      spin 1s steps(1) infinite;\n",
              "  }\n",
              "\n",
              "  @keyframes spin {\n",
              "    0% {\n",
              "      border-color: transparent;\n",
              "      border-bottom-color: var(--fill-color);\n",
              "      border-left-color: var(--fill-color);\n",
              "    }\n",
              "    20% {\n",
              "      border-color: transparent;\n",
              "      border-left-color: var(--fill-color);\n",
              "      border-top-color: var(--fill-color);\n",
              "    }\n",
              "    30% {\n",
              "      border-color: transparent;\n",
              "      border-left-color: var(--fill-color);\n",
              "      border-top-color: var(--fill-color);\n",
              "      border-right-color: var(--fill-color);\n",
              "    }\n",
              "    40% {\n",
              "      border-color: transparent;\n",
              "      border-right-color: var(--fill-color);\n",
              "      border-top-color: var(--fill-color);\n",
              "    }\n",
              "    60% {\n",
              "      border-color: transparent;\n",
              "      border-right-color: var(--fill-color);\n",
              "    }\n",
              "    80% {\n",
              "      border-color: transparent;\n",
              "      border-right-color: var(--fill-color);\n",
              "      border-bottom-color: var(--fill-color);\n",
              "    }\n",
              "    90% {\n",
              "      border-color: transparent;\n",
              "      border-bottom-color: var(--fill-color);\n",
              "    }\n",
              "  }\n",
              "</style>\n",
              "\n",
              "  <script>\n",
              "    async function quickchart(key) {\n",
              "      const quickchartButtonEl =\n",
              "        document.querySelector('#' + key + ' button');\n",
              "      quickchartButtonEl.disabled = true;  // To prevent multiple clicks.\n",
              "      quickchartButtonEl.classList.add('colab-df-spinner');\n",
              "      try {\n",
              "        const charts = await google.colab.kernel.invokeFunction(\n",
              "            'suggestCharts', [key], {});\n",
              "      } catch (error) {\n",
              "        console.error('Error during call to suggestCharts:', error);\n",
              "      }\n",
              "      quickchartButtonEl.classList.remove('colab-df-spinner');\n",
              "      quickchartButtonEl.classList.add('colab-df-quickchart-complete');\n",
              "    }\n",
              "    (() => {\n",
              "      let quickchartButtonEl =\n",
              "        document.querySelector('#df-5a3d4e55-d25e-48e7-a455-02dbbfadabd5 button');\n",
              "      quickchartButtonEl.style.display =\n",
              "        google.colab.kernel.accessAllowed ? 'block' : 'none';\n",
              "    })();\n",
              "  </script>\n",
              "</div>\n",
              "    </div>\n",
              "  </div>\n"
            ]
          },
          "metadata": {},
          "execution_count": 2
        }
      ],
      "source": [
        "# Считываем CSV-файл \"pizza.csv\" и сохраняем его в переменной df_pizza\n",
        "# Параметр low_memory=False используется, чтобы Pandas не пытался оптимизировать память, исходя из типов данных (полезно при больших файлах)\n",
        "# Параметр sep=';' указывает разделитель полей в CSV-файле\n",
        "df_pizza = pd.read_csv('/content/pizza.csv', low_memory=False, sep=';')\n",
        "\n",
        "# Выводим содержимое DataFrame df_pizza\n",
        "df_pizza"
      ]
    },
    {
      "cell_type": "code",
      "source": [
        "# Создаем новый столбец 'day_name', преобразовывая 'order_date' в дату и извлекая из нее название дня недели\n",
        "df_pizza['day_name'] = pd.to_datetime(df_pizza['order_date']).dt.day_name()\n",
        "\n",
        "# Создаем новый DataFrame df, который содержит подсчет количества уникальных значений 'day_name'\n",
        "# и сбрасываем индекс, чтобы получить структуру данных с двумя столбцами: 'day_name' и 'day_count'\n",
        "df = df_pizza['day_name'].value_counts().reset_index()\n",
        "\n",
        "# Переименовываем столбцы в df и выводим таблицу\n",
        "df.columns = ['day_name', 'day_count']\n",
        "df"
      ],
      "metadata": {
        "colab": {
          "base_uri": "https://localhost:8080/",
          "height": 269
        },
        "id": "EeCwp1T_FGt9",
        "outputId": "f42b4df9-2d0f-4925-a3e8-f0bcfe0d6000"
      },
      "id": "EeCwp1T_FGt9",
      "execution_count": 3,
      "outputs": [
        {
          "output_type": "execute_result",
          "data": {
            "text/plain": [
              "    day_name  day_count\n",
              "0   Thursday        857\n",
              "1     Friday        818\n",
              "2   Saturday        706\n",
              "3    Tuesday        702\n",
              "4  Wednesday        655\n",
              "5     Monday        634\n",
              "6     Sunday        628"
            ],
            "text/html": [
              "\n",
              "  <div id=\"df-eb8feb6b-9a2a-40bd-a9a0-13493640ca81\" class=\"colab-df-container\">\n",
              "    <div>\n",
              "<style scoped>\n",
              "    .dataframe tbody tr th:only-of-type {\n",
              "        vertical-align: middle;\n",
              "    }\n",
              "\n",
              "    .dataframe tbody tr th {\n",
              "        vertical-align: top;\n",
              "    }\n",
              "\n",
              "    .dataframe thead th {\n",
              "        text-align: right;\n",
              "    }\n",
              "</style>\n",
              "<table border=\"1\" class=\"dataframe\">\n",
              "  <thead>\n",
              "    <tr style=\"text-align: right;\">\n",
              "      <th></th>\n",
              "      <th>day_name</th>\n",
              "      <th>day_count</th>\n",
              "    </tr>\n",
              "  </thead>\n",
              "  <tbody>\n",
              "    <tr>\n",
              "      <th>0</th>\n",
              "      <td>Thursday</td>\n",
              "      <td>857</td>\n",
              "    </tr>\n",
              "    <tr>\n",
              "      <th>1</th>\n",
              "      <td>Friday</td>\n",
              "      <td>818</td>\n",
              "    </tr>\n",
              "    <tr>\n",
              "      <th>2</th>\n",
              "      <td>Saturday</td>\n",
              "      <td>706</td>\n",
              "    </tr>\n",
              "    <tr>\n",
              "      <th>3</th>\n",
              "      <td>Tuesday</td>\n",
              "      <td>702</td>\n",
              "    </tr>\n",
              "    <tr>\n",
              "      <th>4</th>\n",
              "      <td>Wednesday</td>\n",
              "      <td>655</td>\n",
              "    </tr>\n",
              "    <tr>\n",
              "      <th>5</th>\n",
              "      <td>Monday</td>\n",
              "      <td>634</td>\n",
              "    </tr>\n",
              "    <tr>\n",
              "      <th>6</th>\n",
              "      <td>Sunday</td>\n",
              "      <td>628</td>\n",
              "    </tr>\n",
              "  </tbody>\n",
              "</table>\n",
              "</div>\n",
              "    <div class=\"colab-df-buttons\">\n",
              "\n",
              "  <div class=\"colab-df-container\">\n",
              "    <button class=\"colab-df-convert\" onclick=\"convertToInteractive('df-eb8feb6b-9a2a-40bd-a9a0-13493640ca81')\"\n",
              "            title=\"Convert this dataframe to an interactive table.\"\n",
              "            style=\"display:none;\">\n",
              "\n",
              "  <svg xmlns=\"http://www.w3.org/2000/svg\" height=\"24px\" viewBox=\"0 -960 960 960\">\n",
              "    <path d=\"M120-120v-720h720v720H120Zm60-500h600v-160H180v160Zm220 220h160v-160H400v160Zm0 220h160v-160H400v160ZM180-400h160v-160H180v160Zm440 0h160v-160H620v160ZM180-180h160v-160H180v160Zm440 0h160v-160H620v160Z\"/>\n",
              "  </svg>\n",
              "    </button>\n",
              "\n",
              "  <style>\n",
              "    .colab-df-container {\n",
              "      display:flex;\n",
              "      gap: 12px;\n",
              "    }\n",
              "\n",
              "    .colab-df-convert {\n",
              "      background-color: #E8F0FE;\n",
              "      border: none;\n",
              "      border-radius: 50%;\n",
              "      cursor: pointer;\n",
              "      display: none;\n",
              "      fill: #1967D2;\n",
              "      height: 32px;\n",
              "      padding: 0 0 0 0;\n",
              "      width: 32px;\n",
              "    }\n",
              "\n",
              "    .colab-df-convert:hover {\n",
              "      background-color: #E2EBFA;\n",
              "      box-shadow: 0px 1px 2px rgba(60, 64, 67, 0.3), 0px 1px 3px 1px rgba(60, 64, 67, 0.15);\n",
              "      fill: #174EA6;\n",
              "    }\n",
              "\n",
              "    .colab-df-buttons div {\n",
              "      margin-bottom: 4px;\n",
              "    }\n",
              "\n",
              "    [theme=dark] .colab-df-convert {\n",
              "      background-color: #3B4455;\n",
              "      fill: #D2E3FC;\n",
              "    }\n",
              "\n",
              "    [theme=dark] .colab-df-convert:hover {\n",
              "      background-color: #434B5C;\n",
              "      box-shadow: 0px 1px 3px 1px rgba(0, 0, 0, 0.15);\n",
              "      filter: drop-shadow(0px 1px 2px rgba(0, 0, 0, 0.3));\n",
              "      fill: #FFFFFF;\n",
              "    }\n",
              "  </style>\n",
              "\n",
              "    <script>\n",
              "      const buttonEl =\n",
              "        document.querySelector('#df-eb8feb6b-9a2a-40bd-a9a0-13493640ca81 button.colab-df-convert');\n",
              "      buttonEl.style.display =\n",
              "        google.colab.kernel.accessAllowed ? 'block' : 'none';\n",
              "\n",
              "      async function convertToInteractive(key) {\n",
              "        const element = document.querySelector('#df-eb8feb6b-9a2a-40bd-a9a0-13493640ca81');\n",
              "        const dataTable =\n",
              "          await google.colab.kernel.invokeFunction('convertToInteractive',\n",
              "                                                    [key], {});\n",
              "        if (!dataTable) return;\n",
              "\n",
              "        const docLinkHtml = 'Like what you see? Visit the ' +\n",
              "          '<a target=\"_blank\" href=https://colab.research.google.com/notebooks/data_table.ipynb>data table notebook</a>'\n",
              "          + ' to learn more about interactive tables.';\n",
              "        element.innerHTML = '';\n",
              "        dataTable['output_type'] = 'display_data';\n",
              "        await google.colab.output.renderOutput(dataTable, element);\n",
              "        const docLink = document.createElement('div');\n",
              "        docLink.innerHTML = docLinkHtml;\n",
              "        element.appendChild(docLink);\n",
              "      }\n",
              "    </script>\n",
              "  </div>\n",
              "\n",
              "\n",
              "<div id=\"df-62576678-1c9f-40d0-851f-6350ebff2a2e\">\n",
              "  <button class=\"colab-df-quickchart\" onclick=\"quickchart('df-62576678-1c9f-40d0-851f-6350ebff2a2e')\"\n",
              "            title=\"Suggest charts.\"\n",
              "            style=\"display:none;\">\n",
              "\n",
              "<svg xmlns=\"http://www.w3.org/2000/svg\" height=\"24px\"viewBox=\"0 0 24 24\"\n",
              "     width=\"24px\">\n",
              "    <g>\n",
              "        <path d=\"M19 3H5c-1.1 0-2 .9-2 2v14c0 1.1.9 2 2 2h14c1.1 0 2-.9 2-2V5c0-1.1-.9-2-2-2zM9 17H7v-7h2v7zm4 0h-2V7h2v10zm4 0h-2v-4h2v4z\"/>\n",
              "    </g>\n",
              "</svg>\n",
              "  </button>\n",
              "\n",
              "<style>\n",
              "  .colab-df-quickchart {\n",
              "      --bg-color: #E8F0FE;\n",
              "      --fill-color: #1967D2;\n",
              "      --hover-bg-color: #E2EBFA;\n",
              "      --hover-fill-color: #174EA6;\n",
              "      --disabled-fill-color: #AAA;\n",
              "      --disabled-bg-color: #DDD;\n",
              "  }\n",
              "\n",
              "  [theme=dark] .colab-df-quickchart {\n",
              "      --bg-color: #3B4455;\n",
              "      --fill-color: #D2E3FC;\n",
              "      --hover-bg-color: #434B5C;\n",
              "      --hover-fill-color: #FFFFFF;\n",
              "      --disabled-bg-color: #3B4455;\n",
              "      --disabled-fill-color: #666;\n",
              "  }\n",
              "\n",
              "  .colab-df-quickchart {\n",
              "    background-color: var(--bg-color);\n",
              "    border: none;\n",
              "    border-radius: 50%;\n",
              "    cursor: pointer;\n",
              "    display: none;\n",
              "    fill: var(--fill-color);\n",
              "    height: 32px;\n",
              "    padding: 0;\n",
              "    width: 32px;\n",
              "  }\n",
              "\n",
              "  .colab-df-quickchart:hover {\n",
              "    background-color: var(--hover-bg-color);\n",
              "    box-shadow: 0 1px 2px rgba(60, 64, 67, 0.3), 0 1px 3px 1px rgba(60, 64, 67, 0.15);\n",
              "    fill: var(--button-hover-fill-color);\n",
              "  }\n",
              "\n",
              "  .colab-df-quickchart-complete:disabled,\n",
              "  .colab-df-quickchart-complete:disabled:hover {\n",
              "    background-color: var(--disabled-bg-color);\n",
              "    fill: var(--disabled-fill-color);\n",
              "    box-shadow: none;\n",
              "  }\n",
              "\n",
              "  .colab-df-spinner {\n",
              "    border: 2px solid var(--fill-color);\n",
              "    border-color: transparent;\n",
              "    border-bottom-color: var(--fill-color);\n",
              "    animation:\n",
              "      spin 1s steps(1) infinite;\n",
              "  }\n",
              "\n",
              "  @keyframes spin {\n",
              "    0% {\n",
              "      border-color: transparent;\n",
              "      border-bottom-color: var(--fill-color);\n",
              "      border-left-color: var(--fill-color);\n",
              "    }\n",
              "    20% {\n",
              "      border-color: transparent;\n",
              "      border-left-color: var(--fill-color);\n",
              "      border-top-color: var(--fill-color);\n",
              "    }\n",
              "    30% {\n",
              "      border-color: transparent;\n",
              "      border-left-color: var(--fill-color);\n",
              "      border-top-color: var(--fill-color);\n",
              "      border-right-color: var(--fill-color);\n",
              "    }\n",
              "    40% {\n",
              "      border-color: transparent;\n",
              "      border-right-color: var(--fill-color);\n",
              "      border-top-color: var(--fill-color);\n",
              "    }\n",
              "    60% {\n",
              "      border-color: transparent;\n",
              "      border-right-color: var(--fill-color);\n",
              "    }\n",
              "    80% {\n",
              "      border-color: transparent;\n",
              "      border-right-color: var(--fill-color);\n",
              "      border-bottom-color: var(--fill-color);\n",
              "    }\n",
              "    90% {\n",
              "      border-color: transparent;\n",
              "      border-bottom-color: var(--fill-color);\n",
              "    }\n",
              "  }\n",
              "</style>\n",
              "\n",
              "  <script>\n",
              "    async function quickchart(key) {\n",
              "      const quickchartButtonEl =\n",
              "        document.querySelector('#' + key + ' button');\n",
              "      quickchartButtonEl.disabled = true;  // To prevent multiple clicks.\n",
              "      quickchartButtonEl.classList.add('colab-df-spinner');\n",
              "      try {\n",
              "        const charts = await google.colab.kernel.invokeFunction(\n",
              "            'suggestCharts', [key], {});\n",
              "      } catch (error) {\n",
              "        console.error('Error during call to suggestCharts:', error);\n",
              "      }\n",
              "      quickchartButtonEl.classList.remove('colab-df-spinner');\n",
              "      quickchartButtonEl.classList.add('colab-df-quickchart-complete');\n",
              "    }\n",
              "    (() => {\n",
              "      let quickchartButtonEl =\n",
              "        document.querySelector('#df-62576678-1c9f-40d0-851f-6350ebff2a2e button');\n",
              "      quickchartButtonEl.style.display =\n",
              "        google.colab.kernel.accessAllowed ? 'block' : 'none';\n",
              "    })();\n",
              "  </script>\n",
              "</div>\n",
              "    </div>\n",
              "  </div>\n"
            ]
          },
          "metadata": {},
          "execution_count": 3
        }
      ]
    },
    {
      "cell_type": "code",
      "source": [
        "# Создаем столбчатую диаграмму (барплот) с указанием данных и цветовой палитры\n",
        "g = sns.barplot(x='day_name', y='day_count', data=df, palette='colorblind')\n",
        "\n",
        "# Поворачиваем подписи по оси x на 45 градусов, чтобы сделать их более читаемыми\n",
        "plt.setp(g.get_xticklabels(), rotation=45)\n",
        "\n",
        "# Устанавливаем подписи осей и заголовок графика\n",
        "plt.ylabel('Количество проданной пиццы')\n",
        "plt.xlabel('День недели')\n",
        "plt.title(\"Зависимость количества проданной пиццы от дня недели\", fontsize=13)\n",
        "\n",
        "# Отображаем график\n",
        "plt.show()\n",
        "\n",
        "# Выводим информацию о днях с наибольшим и наименьшим количеством проданных пицц\n",
        "print('День, в который продано больше всего пиццы:', df.day_name[0])\n",
        "print('День, в который продано меньше всего пиццы:', df.day_name[6])"
      ],
      "metadata": {
        "colab": {
          "base_uri": "https://localhost:8080/",
          "height": 560
        },
        "id": "lpHWB-mRFIZ0",
        "outputId": "70f77a7c-30bd-4b43-ffbe-51b878985a5e"
      },
      "id": "lpHWB-mRFIZ0",
      "execution_count": 4,
      "outputs": [
        {
          "output_type": "display_data",
          "data": {
            "text/plain": [
              "<Figure size 640x480 with 1 Axes>"
            ],
            "image/png": "[encoded data removed]"
          },
          "metadata": {}
        },
        {
          "output_type": "stream",
          "name": "stdout",
          "text": [
            "День, в который продано больше всего пиццы: Thursday\n",
            "День, в который продано меньше всего пиццы: Sunday\n"
          ]
        }
      ]
    },
    {
      "cell_type": "markdown",
      "id": "76d81b7e",
      "metadata": {
        "id": "76d81b7e"
      },
      "source": [
        "### Задание 2"
      ]
    },
    {
      "cell_type": "markdown",
      "id": "9aaf3a6e",
      "metadata": {
        "id": "9aaf3a6e"
      },
      "source": [
        "Посчитай, сколько **секунд** необходимо для приготовления каждой пиццы по всем заказам. Значения сохранить в новый столбец - `cook_time`. Найти среднее, медианное, максимальное и минимальное время приготовления пиццы. Результат округлите до целого."
      ]
    },
    {
      "cell_type": "code",
      "execution_count": 5,
      "id": "cf58a66c",
      "metadata": {
        "colab": {
          "base_uri": "https://localhost:8080/"
        },
        "id": "cf58a66c",
        "outputId": "690ed4fd-1fa0-4946-98b1-3795018b5151"
      },
      "outputs": [
        {
          "output_type": "stream",
          "name": "stdout",
          "text": [
            "Среднее время приготовления пиццы, с: 1007\n",
            "Медианное время приготовления пиццы, с: 1006\n",
            "Максимальное время приготовления пиццы, с: 1609\n",
            "Минимальное время приготовления пиццы, с: 444\n"
          ]
        }
      ],
      "source": [
        "# Создаем столбец 'order_date_time', объединяя столбцы 'order_date' и 'order_time' и преобразуя в формат datetime\n",
        "df_pizza['order_date_time'] = pd.to_datetime(df_pizza['order_date'] + ' ' + df_pizza['order_time'])\n",
        "\n",
        "# Преобразуем столбец 'lead_time' в формат datetime\n",
        "df_pizza['lead_time'] = pd.to_datetime(df_pizza['lead_time'])\n",
        "\n",
        "# Создаем столбец 'cook_time', вычисляя разницу между 'lead_time' и 'order_date_time' в секундах\n",
        "df_pizza['cook_time'] = (df_pizza['lead_time'] - df_pizza['order_date_time']).dt.total_seconds()\n",
        "\n",
        "# Выводим статистику по времени приготовления пиццы\n",
        "print('Среднее время приготовления пиццы, с:', round(df_pizza['cook_time'].mean()))\n",
        "print('Медианное время приготовления пиццы, с:', round(df_pizza['cook_time'].median()))\n",
        "print('Максимальное время приготовления пиццы, с:', round(df_pizza['cook_time'].max()))\n",
        "print('Минимальное время приготовления пиццы, с:', round(df_pizza['cook_time'].min()))"
      ]
    },
    {
      "cell_type": "markdown",
      "id": "e3ddd404",
      "metadata": {
        "id": "e3ddd404"
      },
      "source": [
        "### Задание 3"
      ]
    },
    {
      "cell_type": "markdown",
      "id": "666426b6",
      "metadata": {
        "id": "666426b6"
      },
      "source": [
        "Построй 95% доверительный интервал для среднего времени приготовления пиццы в **секундах**. Интервал округли до целого\n",
        "> Для расчета стандартного отклонения используй `numpy.std(ddof=1)`\n",
        "\n",
        "Формула для расчета доверительного интервала:\n",
        "\n",
        "$ \\text{Confident interval}=\\overline{x}\\pm t\\cdot \\frac{Sd}{\\sqrt{n}}  $"
      ]
    },
    {
      "cell_type": "code",
      "execution_count": 20,
      "id": "05fbb9d2",
      "metadata": {
        "colab": {
          "base_uri": "https://localhost:8080/"
        },
        "id": "05fbb9d2",
        "outputId": "559e6a19-4340-4211-ecba-9c20a8f2529b"
      },
      "outputs": [
        {
          "output_type": "stream",
          "name": "stdout",
          "text": [
            "[1002, 1012]\n"
          ]
        }
      ],
      "source": [
        "# Импортируем нужные библиотеки\n",
        "import scipy.stats as st\n",
        "\n",
        "# Вычисляем среднее значение времени приготовления\n",
        "mean = np.mean(df_pizza['cook_time'])\n",
        "\n",
        "# Вычисляем стандартное отклонение времени приготовления, учитывая коррекцию на выборку\n",
        "std = np.std(df_pizza['cook_time'], ddof=1)\n",
        "\n",
        "# Определяем размер выборки\n",
        "n = len(df_pizza['cook_time'])\n",
        "\n",
        "# Вычисляем 95% доверительный интервал для среднего значения\n",
        "confidence_int = st.norm.interval(confidence=0.95, loc=mean, scale=std / np.sqrt(n))\n",
        "\n",
        "# Округляем значения интервала\n",
        "a = round(confidence_int[0])\n",
        "b = round(confidence_int[1])\n",
        "\n",
        "# Выводим доверительный интервал\n",
        "print([a, b])"
      ]
    },
    {
      "cell_type": "markdown",
      "id": "5ee86693",
      "metadata": {
        "id": "5ee86693"
      },
      "source": [
        "### Задание 4"
      ]
    },
    {
      "cell_type": "markdown",
      "id": "7de38e4e",
      "metadata": {
        "id": "7de38e4e"
      },
      "source": [
        "Хозяин ресторана хочет оптимизировать меню ресторана. При формировании цены на пиццу хозяин хочет учитывать время\n",
        "её изготовления. Давай найдем ту пиццу (pizza_name), у которой верхняя граница доверительного интервала её изготовления\n",
        "самая высокая.\n",
        "> Среди пицц, у которых за все время заказывали более 100 штук"
      ]
    },
    {
      "cell_type": "code",
      "execution_count": 7,
      "id": "522c8330",
      "metadata": {
        "colab": {
          "base_uri": "https://localhost:8080/"
        },
        "id": "522c8330",
        "outputId": "d892fcab-5a47-4acc-e45c-bc0a2fe264f9"
      },
      "outputs": [
        {
          "output_type": "stream",
          "name": "stdout",
          "text": [
            "The Italian Vegetables Pizza\n"
          ]
        }
      ],
      "source": [
        "# Создаем датафрейм с количеством каждой пиццы\n",
        "df4 = df_pizza['pizza_name'].value_counts().reset_index()\n",
        "df4.columns = ['pizza_name', 'count']\n",
        "\n",
        "# Выбираем 25 популярных пицц\n",
        "df_count100 = df4.iloc[:25]\n",
        "pizza100 = list(df_count100['pizza_name'])\n",
        "\n",
        "# Оставляем только информацию об этих пиццах в исходном датафрейме\n",
        "df_pizza100 = df_pizza[df_pizza['pizza_name'].isin(pizza100)]\n",
        "\n",
        "# Создаем переменные для отслеживания максимального интервала и соответствующей пиццы\n",
        "max_d = 0\n",
        "max_delta = 0\n",
        "\n",
        "# Для каждой из 25 пицц\n",
        "for pizza in pizza100:\n",
        "\n",
        "    # Выбираем время приготовления только для данной пиццы\n",
        "    pizza_cook_time = df_pizza100[df_pizza100['pizza_name'] == pizza]['cook_time']\n",
        "\n",
        "    # Вычисляем среднее, стандартное отклонение и размер выборки\n",
        "    mean = np.mean(pizza_cook_time)\n",
        "    std = np.std(pizza_cook_time, ddof=1)\n",
        "    n = len(pizza_cook_time)\n",
        "\n",
        "    # Вычисляем 95% доверительный интервал для среднего значения\n",
        "    confidence_int = st.norm.interval(confidence=0.95, loc=mean, scale=std / np.sqrt(n))\n",
        "\n",
        "    # Рассчитываем нижнюю и верхнюю границы интервала, а также его ширину\n",
        "    c = confidence_int[0]\n",
        "    d = confidence_int[1]\n",
        "    delta = d - c\n",
        "\n",
        "    # Обновляем максимальный интервал и соответствующее имя пиццы\n",
        "    if d > max_d:\n",
        "        max_d = d\n",
        "        max_d_pizza_name = pizza\n",
        "\n",
        "    # Обновляем максимальную ширину интервала и соответствующее имя пиццы\n",
        "    if delta > max_delta:\n",
        "        max_delta = delta\n",
        "        max_delta_pizza_name = pizza\n",
        "\n",
        "# Выводим название пиццы с максимальным верхним пределом интервала\n",
        "print(max_d_pizza_name)"
      ]
    },
    {
      "cell_type": "markdown",
      "id": "f81baa2f",
      "metadata": {
        "id": "f81baa2f"
      },
      "source": [
        "### Задание 5"
      ]
    },
    {
      "cell_type": "markdown",
      "id": "005c00f5",
      "metadata": {
        "id": "005c00f5"
      },
      "source": [
        "Также хозяину ресторана хочется убрать из меню пиццы с нестабильным временем изготовления.\n",
        "Давай найдем пиццу с самым широким доверительным интервалом.\n",
        "> Среди пицц, у которых за все время заказывали более 100 штук"
      ]
    },
    {
      "cell_type": "code",
      "execution_count": 8,
      "id": "8932a0cc",
      "metadata": {
        "colab": {
          "base_uri": "https://localhost:8080/"
        },
        "id": "8932a0cc",
        "outputId": "2d839486-571b-4dfd-9f9e-ab9dcfacb717"
      },
      "outputs": [
        {
          "output_type": "stream",
          "name": "stdout",
          "text": [
            "The Chicken Alfredo Pizza\n"
          ]
        }
      ],
      "source": [
        "# Находим и выводим название пиццы с самым широким интервалом времени приготовления, среди пицц, которых за все время заказывали более 100 штук\n",
        "print(max_delta_pizza_name)"
      ]
    },
    {
      "cell_type": "markdown",
      "id": "b28393c5",
      "metadata": {
        "id": "b28393c5"
      },
      "source": [
        "## AB тестирование"
      ]
    },
    {
      "cell_type": "markdown",
      "id": "9dc3e5a8",
      "metadata": {
        "id": "9dc3e5a8"
      },
      "source": [
        "### Задание 6"
      ]
    },
    {
      "cell_type": "markdown",
      "id": "028eddf8",
      "metadata": {
        "id": "028eddf8"
      },
      "source": [
        "В качестве нулевой гипотезы (H0) выберем, что старый баннер лучше нового.  В качестве альтернативной гипотезы (H1) выберем,\n",
        "что новый баннер лучше старого. Построй 95% доверительный интервал для доли каждого из баннеров, используя метод\n",
        "[proportion_confint](https://www.statsmodels.org/devel/generated/statsmodels.stats.proportion.proportion_confint.html)\n",
        "библиотеки statsmodels. Пересекаются ли эти интервалы?"
      ]
    },
    {
      "cell_type": "code",
      "source": [
        "# Импортируем необходимую функцию для вычисления доверительных интервалов пропорций.\n",
        "from statsmodels.stats.proportion import proportion_confint\n",
        "\n",
        "# Чтение данных из файла 'click.csv' в датафрейм df_click\n",
        "df_click = pd.read_csv('/content/click.csv', low_memory=False)\n",
        "\n",
        "# Вычисляем доверительные интервалы для старого и нового баннеров\n",
        "confint_a = proportion_confint(df_click.banner_a.sum(), len(df_click))\n",
        "confint_b = proportion_confint(df_click.banner_b.sum(), len(df_click))\n",
        "\n",
        "# Выводим полученные доверительные интервалы\n",
        "print('Доверительный интервал для старого баннера:', confint_a)\n",
        "print('Доверительный интервал для нового баннера:', confint_b)\n",
        "\n",
        "# Проверяем, пересекаются ли доверительные интервалы старого и нового баннеров\n",
        "if confint_a[1] < confint_b[0] or confint_b[1] < confint_a[0]:\n",
        "    print('Доверительные интервалы не пересекаются.')\n",
        "else:\n",
        "    print('Доверительные интервалы пересекаются.')"
      ],
      "metadata": {
        "colab": {
          "base_uri": "https://localhost:8080/"
        },
        "id": "w8TH1G0PWrx5",
        "outputId": "683c1304-cc1e-4e4b-ffde-54b874ac52fc"
      },
      "id": "w8TH1G0PWrx5",
      "execution_count": 9,
      "outputs": [
        {
          "output_type": "stream",
          "name": "stdout",
          "text": [
            "Доверительный интервал для старого баннера: (0.02530064022092865, 0.04869935977907135)\n",
            "Доверительный интервал для нового баннера: (0.03911451622486782, 0.06688548377513218)\n",
            "Доверительные интервалы пересекаются.\n"
          ]
        }
      ]
    },
    {
      "cell_type": "markdown",
      "id": "84ac442f",
      "metadata": {
        "id": "84ac442f"
      },
      "source": [
        "### Задание 7"
      ]
    },
    {
      "cell_type": "markdown",
      "id": "8d760d69",
      "metadata": {
        "id": "8d760d69"
      },
      "source": [
        "Для более детальной оценки построй 95% доверительный интервал для разности двух долей.\n",
        "**Ответ дай в формате:**\\\n",
        "95% доверительный интервал для разности двух долей: [0.99847, 9.99847]"
      ]
    },
    {
      "cell_type": "markdown",
      "id": "2f34dfbc",
      "metadata": {
        "id": "2f34dfbc"
      },
      "source": [
        "Левая и правая границы доверительного интервала рассчитываются по формулам:\n",
        "$$p_a - p_b \\pm z * \\sqrt{\\frac{p_a(1 - p_a)}{n_a} + \\frac{p_b(1 - p_b)}{n_b}}$$\n",
        "Где\n",
        "\n",
        "$p_a = \\frac{n_{like(a)}}{n_{a}}$,\n",
        "\n",
        "$p_b = \\frac{n_{like(b)}}{n_{b}}$,\n",
        "\n",
        "$z = 1-\\frac{\\alpha}{2}$ (используй scipy.stats.norm.ppf)\n",
        "\n",
        "$n_a$ - общее количество кликов по баннеру а\n",
        "\n",
        "$n_b$ - общее количество кликов по баннеру b\n",
        "\n",
        "$n_{like(a)}$ - количество лайков по баннеру а\n",
        "\n",
        "$n_{like(b)}$ - количество лайков по баннеру b"
      ]
    },
    {
      "cell_type": "code",
      "source": [
        "# Импортируем необходимую функцию из библиотеки scipy.stats\n",
        "from scipy.stats import norm\n",
        "\n",
        "# Вычисляем количество \"нравится\" для баннера A и общее количество событий A\n",
        "n_like_a = sum(df_click['banner_a'])\n",
        "n_a = df_click.shape[0]\n",
        "\n",
        "# Вычисляем количество \"нравится\" для баннера B и общее количество событий B\n",
        "n_like_b = sum(df_click['banner_b'])\n",
        "n_b = df_click.shape[0]\n",
        "\n",
        "# Вычисляем вероятности \"нравится\" для A и B\n",
        "Pa = n_like_a / n_a\n",
        "Pb = n_like_b / n_b\n",
        "\n",
        "# Вычисляем критическое значение Z (для 95% доверительного интервала)\n",
        "z = norm.ppf(1 - 0.05 / 2)\n",
        "\n",
        "# Вычисляем разность долей с учетом Z-критерия\n",
        "e = Pa - Pb - z * np.sqrt(Pa * (1-Pa) / n_a + Pb * (1-Pb) / n_b)\n",
        "e = round(e, 5)\n",
        "\n",
        "# Вычисляем верхнюю границу интервала\n",
        "f = Pa - Pb + z * np.sqrt(Pa * (1-Pa) / n_a + Pb * (1-Pb) / n_b)\n",
        "f = round(f, 5)\n",
        "\n",
        "# Выводим 95% доверительный интервал для разности долей\n",
        "print('95% доверительный интервал для разности двух долей: [', e, ',', f, ']')"
      ],
      "metadata": {
        "colab": {
          "base_uri": "https://localhost:8080/"
        },
        "id": "9R6bw0d1Y1Tg",
        "outputId": "710acc49-71a9-49f7-ba7b-3e7691df69c7"
      },
      "id": "9R6bw0d1Y1Tg",
      "execution_count": 10,
      "outputs": [
        {
          "output_type": "stream",
          "name": "stdout",
          "text": [
            "95% доверительный интервал для разности двух долей: [ -0.03416 , 0.00216 ]\n"
          ]
        }
      ]
    },
    {
      "cell_type": "markdown",
      "id": "adda94db",
      "metadata": {
        "id": "adda94db"
      },
      "source": [
        "### Задание 8"
      ]
    },
    {
      "cell_type": "markdown",
      "id": "b9f88120",
      "metadata": {
        "id": "b9f88120"
      },
      "source": [
        "Проведи АБ-тест. Какой баннер лучше? H0 - Старый баннер или H1 - новый баннер.\n",
        "В этом тебе поможем функция [z-критерия](code-samples/stats.py)."
      ]
    },
    {
      "cell_type": "markdown",
      "id": "771558cb",
      "metadata": {
        "id": "771558cb"
      },
      "source": [
        "$$Z({X_1, X_2}) =  \\frac{p_a - p_b}{\\sqrt{P(1 - P)(\\frac{1}{n_a} + \\frac{1}{n_b})}}$$\n",
        "$$P = \\frac{p_a{n_a} + p_b{n_b}}{{n_a} + {n_b}} $$\n",
        "\n",
        "$p_a, p_b = \\frac{∑кликов}{n}$, n - общее количество кликов по баннеру\n",
        "\n",
        "$n_a$ - общее количество кликов по баннеру а\n",
        "\n",
        "$n_b$ - общее количество кликов по баннеру b"
      ]
    },
    {
      "cell_type": "code",
      "execution_count": 11,
      "id": "c4349f01",
      "metadata": {
        "id": "c4349f01"
      },
      "outputs": [],
      "source": [
        "def z_stat(sample1, sample2):\n",
        "    n_a = len(sample1)\n",
        "    n_b = len(sample2)\n",
        "\n",
        "    p_a = float(sum(sample1)) / n_a\n",
        "    p_b = float(sum(sample2)) / n_b\n",
        "    P = float(p_a * n_a + p_b * n_b) / (n_a + n_b)\n",
        "\n",
        "    return (p_a - p_b) / np.sqrt(P * (1 - P) * (1. / n_a + 1. / n_b))"
      ]
    },
    {
      "cell_type": "code",
      "execution_count": 12,
      "id": "b12d59dd",
      "metadata": {
        "colab": {
          "base_uri": "https://localhost:8080/"
        },
        "id": "b12d59dd",
        "outputId": "967b4f50-23fd-4c02-e0b6-d6bc5ef43703"
      },
      "outputs": [
        {
          "output_type": "stream",
          "name": "stdout",
          "text": [
            "z = -1.7258261378415294\n",
            "Опровергаем нулевую гипотезу, значит, новый баннер лучше.\n"
          ]
        }
      ],
      "source": [
        "z = z_stat(df_click['banner_a'],df_click['banner_b'])\n",
        "if z == 0:\n",
        "    print(\"z =\", z)\n",
        "    print(\"Принимаем нулевую гипотезу, значит, старый баннер лучше.\")\n",
        "else:\n",
        "    print(\"z =\", z)\n",
        "    print(\"Опровергаем нулевую гипотезу, значит, новый баннер лучше.\")"
      ]
    },
    {
      "cell_type": "markdown",
      "id": "c33139fd",
      "metadata": {
        "id": "c33139fd"
      },
      "source": [
        "## Корреляции"
      ]
    },
    {
      "cell_type": "markdown",
      "id": "8a4a0430",
      "metadata": {
        "id": "8a4a0430"
      },
      "source": [
        "### Задание 9"
      ]
    },
    {
      "cell_type": "markdown",
      "id": "02de20e4",
      "metadata": {
        "id": "02de20e4"
      },
      "source": [
        "Прочитай про корреляции Пирсона и Спирмена. Узнай какие связи между выборками они способны находить. По сгенерированным выборкам посчитай коррелицию Пирсона и Спирмена для выборок `x-y1`, `x-y2`, `x-y3`. Отрисуй выборки в формате, как показано ниже:\n",
        "<img src=\"../misc/images/corr.png\">"
      ]
    },
    {
      "cell_type": "markdown",
      "id": "313a15d6",
      "metadata": {
        "id": "313a15d6"
      },
      "source": [
        "Объясни, почему получается такое значение корреляций."
      ]
    },
    {
      "cell_type": "code",
      "execution_count": 13,
      "id": "5d260fe7",
      "metadata": {
        "id": "5d260fe7"
      },
      "outputs": [],
      "source": [
        "x = np.linspace(-10,10,100)\n",
        "y1 = x ** 2\n",
        "y2 = -x **2\n",
        "y3 = np.log(x ** 2 + 1)"
      ]
    },
    {
      "cell_type": "code",
      "execution_count": 14,
      "id": "5bf4ed0a",
      "metadata": {
        "colab": {
          "base_uri": "https://localhost:8080/"
        },
        "id": "5bf4ed0a",
        "outputId": "3c38f12f-da56-4211-c705-00cba8b55b6c"
      },
      "outputs": [
        {
          "output_type": "stream",
          "name": "stdout",
          "text": [
            "Коэффициенты корреляции Пирсона.\n",
            "x-y1: -0.0\n",
            "x-y2: 0.0\n",
            "x-y3: 0.0\n",
            "\n",
            "Коэффициенты корреляции Спирмена.\n",
            "x-y1: -0.0\n",
            "x-y2: 0.0\n",
            "x-y3: -0.0\n"
          ]
        }
      ],
      "source": [
        "# Импортируем необходимые библиотеки\n",
        "import scipy.stats as st\n",
        "\n",
        "# Вычисляем коэффициенты корреляции Пирсона и Спирмена для трех пар (x, y1), (x, y2), и (x, y3)\n",
        "P_y1 = st.pearsonr(x, y1)[0]\n",
        "P_y2 = st.pearsonr(x, y2)[0]\n",
        "P_y3 = st.pearsonr(x, y3)[0]\n",
        "\n",
        "S_y1 = st.spearmanr(x, y1)[0]\n",
        "S_y2 = st.spearmanr(x, y2)[0]\n",
        "S_y3 = st.spearmanr(x, y3)[0]\n",
        "\n",
        "# Выводим коэффициенты корреляции Пирсона\n",
        "print('Коэффициенты корреляции Пирсона.')\n",
        "print('x-y1:', round(P_y1, 2))\n",
        "print('x-y2:', round(P_y2, 2))\n",
        "print('x-y3:', round(P_y3, 2))\n",
        "print('')\n",
        "\n",
        "# Выводим коэффициенты корреляции Спирмена\n",
        "print('Коэффициенты корреляции Спирмена.')\n",
        "print('x-y1:', round(S_y1, 2))\n",
        "print('x-y2:', round(S_y2, 2))\n",
        "print('x-y3:', round(S_y3, 2))\n"
      ]
    },
    {
      "cell_type": "code",
      "source": [
        "# Импортируем необходимые библиотеки\n",
        "import matplotlib.pyplot as plt\n",
        "\n",
        "# Создаем фигуру с 3 графиками в одной строке и размером 15x5\n",
        "fig, ax = plt.subplots(1, 3, figsize=(15, 5))\n",
        "\n",
        "# График 1: x-y1\n",
        "ax[0].plot(x, y1, 'co', markersize=1)\n",
        "ax[0].set(xlabel='x', ylabel='y1', title=f'Pearson correlation = {P_y1:.2f}\\nSpearmen correlation = {S_y1:.2f}')\n",
        "\n",
        "# График 2: x-y2\n",
        "ax[1].plot(x, y2, 'co', markersize=1)\n",
        "ax[1].set(xlabel='x', ylabel='y2', title=f'Pearson correlation = {P_y2:.2f}\\nSpearmen correlation = {S_y2:.2f}')\n",
        "\n",
        "# График 3: x-y3\n",
        "ax[2].plot(x, y3, 'co', markersize=1)\n",
        "ax[2].set(xlabel='x', ylabel='y3', title=f'Pearson correlation = {P_y3:.2f}\\nSpearmen correlation = {S_y3:.2f}')\n",
        "\n",
        "# Отображаем графики\n",
        "plt.show()\n"
      ],
      "metadata": {
        "colab": {
          "base_uri": "https://localhost:8080/",
          "height": 508
        },
        "id": "1zNQpAsKeFzm",
        "outputId": "59a006b8-b8ae-48a7-91bb-f0ab1bde56d5"
      },
      "id": "1zNQpAsKeFzm",
      "execution_count": 15,
      "outputs": [
        {
          "output_type": "display_data",
          "data": {
            "text/plain": [
              "<Figure size 1500x500 with 3 Axes>"
            ],
            "image/png": "[encoded data removed]"
          },
          "metadata": {}
        }
      ]
    },
    {
      "cell_type": "markdown",
      "source": [
        "Нулевая корреляция означает, что между двумя переменными нет связи."
      ],
      "metadata": {
        "id": "dMn8Avlg2lhd"
      },
      "id": "dMn8Avlg2lhd"
    },
    {
      "cell_type": "markdown",
      "id": "4917b9fb",
      "metadata": {
        "id": "4917b9fb"
      },
      "source": [
        "### Задание 10"
      ]
    },
    {
      "cell_type": "markdown",
      "id": "8dc4910b",
      "metadata": {
        "id": "8dc4910b"
      },
      "source": [
        "Построй облако из тысячи точек c помощью приведенного кода.\n",
        "Выведи значения коэффициентов корреляции.\n",
        "Случайным образом выбери четыре точки. Каждую из точек передвигать в правый верхний угол относительно облака точек\n",
        "(тем самым создавая выброс):\n",
        "значения по оси х 25, 50, 150, 650\n",
        "по оси y 20, 40, 60, 80.\n",
        "Выводи на графике перемещения точек.\n",
        "Для каждого расстояния рассчитай коэффициент корреляции Пирсона и Спирмана.\n",
        "Какая корреляция больше устойчива к выбросам?"
      ]
    },
    {
      "cell_type": "code",
      "execution_count": 16,
      "id": "7269946b",
      "metadata": {
        "id": "7269946b"
      },
      "outputs": [],
      "source": [
        "step = np.linspace(-10, 0, 1000)\n",
        "x = -step + np.random.randn(1000) * 0.2\n",
        "y = step + np.random.randn(1000)* 0.2"
      ]
    },
    {
      "cell_type": "code",
      "execution_count": 17,
      "id": "5d5100ee",
      "metadata": {
        "colab": {
          "base_uri": "https://localhost:8080/",
          "height": 484
        },
        "id": "5d5100ee",
        "outputId": "46fec135-2930-4766-94da-02878d916d7d"
      },
      "outputs": [
        {
          "output_type": "display_data",
          "data": {
            "text/plain": [
              "<Figure size 640x480 with 1 Axes>"
            ],
            "image/png": "[encoded data removed]"
          },
          "metadata": {}
        },
        {
          "output_type": "stream",
          "name": "stdout",
          "text": [
            "Коэффициент корреляции Пирсона: -0.9954395128784561\n",
            "Коэффициент корреляции Спирмена: -0.9955522075522077\n"
          ]
        }
      ],
      "source": [
        "# Импортируем необходимые библиотеки\n",
        "import matplotlib.pyplot as plt\n",
        "\n",
        "# Создаем точечную диаграмму для переменных x и y\n",
        "plt.scatter(x, y)\n",
        "\n",
        "# Устанавливаем подписи для осей\n",
        "plt.xlabel('x')\n",
        "plt.ylabel('y')\n",
        "\n",
        "# Отображаем диаграмму\n",
        "plt.show()\n",
        "\n",
        "# Вычисляем коэффициенты корреляции Пирсона и Спирмена\n",
        "P = st.pearsonr(x, y)[0]\n",
        "S = st.spearmanr(x, y)[0]\n",
        "\n",
        "# Выводим результаты на экран\n",
        "print('Коэффициент корреляции Пирсона:', P)\n",
        "print('Коэффициент корреляции Спирмена:', S)"
      ]
    },
    {
      "cell_type": "code",
      "source": [
        "import random\n",
        "\n",
        "ran_i = np.random.choice(len(x), size=4, replace=False) # индексы 4 случайно выбранных точек из облака\n",
        "\n",
        "#Координаты выбранных точек\n",
        "ran_x = x[ran_i]\n",
        "ran_y = y[ran_i]\n",
        "\n",
        "#print(ran_x, ran_y)"
      ],
      "metadata": {
        "id": "-KUjeV2gfR0n"
      },
      "id": "-KUjeV2gfR0n",
      "execution_count": 18,
      "outputs": []
    },
    {
      "cell_type": "code",
      "source": [
        "plt.scatter(x, y)\n",
        "plt.xlabel('x')\n",
        "plt.ylabel('y')\n",
        "\n",
        "# Начинаем движение выбранных точек\n",
        "\n",
        "plt.scatter(ran_x+25, ran_y+20) # 1 сдвиг\n",
        "plt.scatter(ran_x+50, ran_y+40) # 2 сдвиг\n",
        "plt.scatter(ran_x+150, ran_y+60) # 3 сдвиг\n",
        "plt.scatter(ran_x+650, ran_y+80) # 4 сдвиг\n",
        "\n",
        "plt.show()\n",
        "\n",
        "# Добавляем выбросы к облаку точек и считаем коэффициенты корреляции\n",
        "x1 = np.concatenate((ran_x+25, x))\n",
        "y1 = np.concatenate((ran_y+20, y))\n",
        "\n",
        "P1 = st.pearsonr(x1, y1)[0]\n",
        "S1 = st.spearmanr(x1, y1)[0]\n",
        "print('Коэффициент корреляции Пирсона (1 сдвиг):', P1)\n",
        "print('Коэффициент корреляции Спирмена (1 сдвиг):', S1)\n",
        "print()\n",
        "\n",
        "x2 = np.concatenate((ran_x+50, x))\n",
        "y2 = np.concatenate((ran_y+40, y))\n",
        "\n",
        "P2 = st.pearsonr(x2, y2)[0]\n",
        "S2 = st.spearmanr(x2, y2)[0]\n",
        "print('Коэффициент корреляции Пирсона (2 сдвиг):', P2)\n",
        "print('Коэффициент корреляции Спирмена (2 сдвиг):', S2)\n",
        "print()\n",
        "\n",
        "x3 = np.concatenate((ran_x+150, x))\n",
        "y3 = np.concatenate((ran_y+60, y))\n",
        "\n",
        "P3 = st.pearsonr(x3, y3)[0]\n",
        "S3 = st.spearmanr(x3, y3)[0]\n",
        "print('Коэффициент корреляции Пирсона (3 сдвиг):', P3)\n",
        "print('Коэффициент корреляции Спирмена (3 сдвиг):', S3)\n",
        "print()\n",
        "\n",
        "x4 = np.concatenate((ran_x+650, x))\n",
        "y4 = np.concatenate((ran_y+80, y))\n",
        "\n",
        "P4 = st.pearsonr(x4, y4)[0]\n",
        "S4 = st.spearmanr(x4, y4)[0]\n",
        "print('Коэффициент корреляции Пирсона (4 сдвиг):', P4)\n",
        "print('Коэффициент корреляции Спирмена (4 сдвиг):', S4)"
      ],
      "metadata": {
        "colab": {
          "base_uri": "https://localhost:8080/",
          "height": 642
        },
        "id": "jupNJlBufTOi",
        "outputId": "c35a89b7-2770-4e08-b711-4babcf118373"
      },
      "id": "jupNJlBufTOi",
      "execution_count": 19,
      "outputs": [
        {
          "output_type": "display_data",
          "data": {
            "text/plain": [
              "<Figure size 640x480 with 1 Axes>"
            ],
            "image/png": "[encoded data removed]"
          },
          "metadata": {}
        },
        {
          "output_type": "stream",
          "name": "stdout",
          "text": [
            "Коэффициент корреляции Пирсона (1 сдвиг): -0.613258904447348\n",
            "Коэффициент корреляции Спирмена (1 сдвиг): -0.9717959874316514\n",
            "\n",
            "Коэффициент корреляции Пирсона (2 сдвиг): -0.028275859760634937\n",
            "Коэффициент корреляции Спирмена (2 сдвиг): -0.9717959874316514\n",
            "\n",
            "Коэффициент корреляции Пирсона (3 сдвиг): 0.5762024187412924\n",
            "Коэффициент корреляции Спирмена (3 сдвиг): -0.9717959874316514\n",
            "\n",
            "Коэффициент корреляции Пирсона (4 сдвиг): 0.8270207587510038\n",
            "Коэффициент корреляции Спирмена (4 сдвиг): -0.9717959874316514\n"
          ]
        }
      ]
    },
    {
      "cell_type": "markdown",
      "source": [
        "Корреляция Спирмена больше устойчива к выбросам. Результаты корреляции Спирмена всегда равны -0.9715839814800703, потому что внутри цикла изменяются только значения x, в то время как y остается неизменным."
      ],
      "metadata": {
        "id": "WezSfV-MhQah"
      },
      "id": "WezSfV-MhQah"
    }
  ],
  "metadata": {
    "kernelspec": {
      "display_name": "Python 3 (ipykernel)",
      "language": "python",
      "name": "python3"
    },
    "language_info": {
      "codemirror_mode": {
        "name": "ipython",
        "version": 3
      },
      "file_extension": ".py",
      "mimetype": "text/x-python",
      "name": "python",
      "nbconvert_exporter": "python",
      "pygments_lexer": "ipython3",
      "version": "3.9.6"
    },
    "colab": {
      "provenance": []
    }
  },
  "nbformat": 4,
  "nbformat_minor": 5
}