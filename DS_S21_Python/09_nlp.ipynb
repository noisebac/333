{
  "cells": [
    {
      "cell_type": "markdown",
      "id": "e73517c0-2692-4321-846c-9d8d61141d9a",
      "metadata": {
        "id": "e73517c0-2692-4321-846c-9d8d61141d9a"
      },
      "source": [
        "# Natural language processing"
      ]
    },
    {
      "cell_type": "markdown",
      "id": "bd08f95f-ff3d-41c2-aff8-a33c99136b40",
      "metadata": {
        "id": "bd08f95f-ff3d-41c2-aff8-a33c99136b40"
      },
      "source": [
        "## Task 1"
      ]
    },
    {
      "cell_type": "markdown",
      "id": "100e1fc2-654c-4f05-8171-8ac4ca7d9acc",
      "metadata": {
        "id": "100e1fc2-654c-4f05-8171-8ac4ca7d9acc"
      },
      "source": [
        "Загрузи датасет. Отрисуй Bar-plot с количеством комментариев для каждой категории токсичности\n",
        "и комментариев без токсичности.\n",
        "![sample](../misc/images/bar-plot.png)\n",
        "Выведи эти количества для каждой категории."
      ]
    },
    {
      "cell_type": "code",
      "execution_count": null,
      "id": "c53dce91-7c94-4d1f-9158-c9e8130b111d",
      "metadata": {
        "id": "c53dce91-7c94-4d1f-9158-c9e8130b111d",
        "outputId": "4616c014-f282-4d96-ce04-45c86cc87319"
      },
      "outputs": [
        {
          "data": {
            "text/plain": [
              "toxic            15294\n",
              "severe_toxic      1595\n",
              "obscene           8449\n",
              "threat             478\n",
              "insult            7877\n",
              "identity_hate     1405\n",
              "dtype: int64"
            ]
          },
          "execution_count": 1,
          "metadata": {},
          "output_type": "execute_result"
        }
      ],
      "source": [
        "import pandas as pd\n",
        "import matplotlib.pyplot as plt\n",
        "toxic = pd.read_csv('toxic.csv')\n",
        "#Посчитаем количество комментариев для каждой категории токсичности:\n",
        "category_counts = toxic.iloc[:, 2:].sum()\n",
        "category_counts"
      ]
    },
    {
      "cell_type": "code",
      "execution_count": null,
      "id": "4983b07a-1a78-4b34-bef5-89f27f1b73a4",
      "metadata": {
        "id": "4983b07a-1a78-4b34-bef5-89f27f1b73a4",
        "outputId": "1725b939-ee0e-48fe-cf66-8c9a1fa6fd48"
      },
      "outputs": [
        {
          "name": "stdout",
          "output_type": "stream",
          "text": [
            "Количество строк в столбце 'comment_text': 159571\n"
          ]
        }
      ],
      "source": [
        "count = len(toxic['comment_text'])\n",
        "print(f\"Количество строк в столбце 'comment_text': {count}\")"
      ]
    },
    {
      "cell_type": "code",
      "execution_count": null,
      "id": "573e7388-ab35-4f7a-9379-e81134915145",
      "metadata": {
        "id": "573e7388-ab35-4f7a-9379-e81134915145",
        "outputId": "7629a8bf-65e3-4452-d898-f889d467e8d4"
      },
      "outputs": [
        {
          "data": {
            "text/html": [
              "<div>\n",
              "<style scoped>\n",
              "    .dataframe tbody tr th:only-of-type {\n",
              "        vertical-align: middle;\n",
              "    }\n",
              "\n",
              "    .dataframe tbody tr th {\n",
              "        vertical-align: top;\n",
              "    }\n",
              "\n",
              "    .dataframe thead th {\n",
              "        text-align: right;\n",
              "    }\n",
              "</style>\n",
              "<table border=\"1\" class=\"dataframe\">\n",
              "  <thead>\n",
              "    <tr style=\"text-align: right;\">\n",
              "      <th></th>\n",
              "      <th>id</th>\n",
              "      <th>comment_text</th>\n",
              "      <th>toxic</th>\n",
              "      <th>severe_toxic</th>\n",
              "      <th>obscene</th>\n",
              "      <th>threat</th>\n",
              "      <th>insult</th>\n",
              "      <th>identity_hate</th>\n",
              "    </tr>\n",
              "  </thead>\n",
              "  <tbody>\n",
              "    <tr>\n",
              "      <th>0</th>\n",
              "      <td>0000997932d777bf</td>\n",
              "      <td>Explanation\\nWhy the edits made under my usern...</td>\n",
              "      <td>0</td>\n",
              "      <td>0</td>\n",
              "      <td>0</td>\n",
              "      <td>0</td>\n",
              "      <td>0</td>\n",
              "      <td>0</td>\n",
              "    </tr>\n",
              "    <tr>\n",
              "      <th>1</th>\n",
              "      <td>000103f0d9cfb60f</td>\n",
              "      <td>D'aww! He matches this background colour I'm s...</td>\n",
              "      <td>0</td>\n",
              "      <td>0</td>\n",
              "      <td>0</td>\n",
              "      <td>0</td>\n",
              "      <td>0</td>\n",
              "      <td>0</td>\n",
              "    </tr>\n",
              "    <tr>\n",
              "      <th>2</th>\n",
              "      <td>000113f07ec002fd</td>\n",
              "      <td>Hey man, I'm really not trying to edit war. It...</td>\n",
              "      <td>0</td>\n",
              "      <td>0</td>\n",
              "      <td>0</td>\n",
              "      <td>0</td>\n",
              "      <td>0</td>\n",
              "      <td>0</td>\n",
              "    </tr>\n",
              "    <tr>\n",
              "      <th>3</th>\n",
              "      <td>0001b41b1c6bb37e</td>\n",
              "      <td>\"\\nMore\\nI can't make any real suggestions on ...</td>\n",
              "      <td>0</td>\n",
              "      <td>0</td>\n",
              "      <td>0</td>\n",
              "      <td>0</td>\n",
              "      <td>0</td>\n",
              "      <td>0</td>\n",
              "    </tr>\n",
              "    <tr>\n",
              "      <th>4</th>\n",
              "      <td>0001d958c54c6e35</td>\n",
              "      <td>You, sir, are my hero. Any chance you remember...</td>\n",
              "      <td>0</td>\n",
              "      <td>0</td>\n",
              "      <td>0</td>\n",
              "      <td>0</td>\n",
              "      <td>0</td>\n",
              "      <td>0</td>\n",
              "    </tr>\n",
              "  </tbody>\n",
              "</table>\n",
              "</div>"
            ],
            "text/plain": [
              "                 id                                       comment_text  toxic  \\\n",
              "0  0000997932d777bf  Explanation\\nWhy the edits made under my usern...      0   \n",
              "1  000103f0d9cfb60f  D'aww! He matches this background colour I'm s...      0   \n",
              "2  000113f07ec002fd  Hey man, I'm really not trying to edit war. It...      0   \n",
              "3  0001b41b1c6bb37e  \"\\nMore\\nI can't make any real suggestions on ...      0   \n",
              "4  0001d958c54c6e35  You, sir, are my hero. Any chance you remember...      0   \n",
              "\n",
              "   severe_toxic  obscene  threat  insult  identity_hate  \n",
              "0             0        0       0       0              0  \n",
              "1             0        0       0       0              0  \n",
              "2             0        0       0       0              0  \n",
              "3             0        0       0       0              0  \n",
              "4             0        0       0       0              0  "
            ]
          },
          "execution_count": 3,
          "metadata": {},
          "output_type": "execute_result"
        }
      ],
      "source": [
        "toxic.head()"
      ]
    },
    {
      "cell_type": "code",
      "execution_count": null,
      "id": "b5100e91-4242-44fd-b74d-3d134dac0735",
      "metadata": {
        "id": "b5100e91-4242-44fd-b74d-3d134dac0735",
        "outputId": "04b6088d-8ce5-4906-8f19-df0155934094"
      },
      "outputs": [
        {
          "name": "stdout",
          "output_type": "stream",
          "text": [
            "Количество строк с суммой по категориям токсичности 2 и более: 9865\n"
          ]
        }
      ],
      "source": [
        "# Фильтрация данных по условию суммы по категориям токсичности\n",
        "filtered_rows = toxic[(toxic['toxic'] + toxic['severe_toxic'] + toxic['obscene'] + toxic['threat'] + toxic['insult'] + toxic['identity_hate']) >= 2]\n",
        "\n",
        "# Подсчет количества отфильтрованных строк\n",
        "count = len(filtered_rows)\n",
        "print(\"Количество строк с суммой по категориям токсичности 2 и более:\", count)"
      ]
    },
    {
      "cell_type": "code",
      "execution_count": null,
      "id": "7a354c2b-8eaa-4389-8ed3-956d582058c1",
      "metadata": {
        "id": "7a354c2b-8eaa-4389-8ed3-956d582058c1",
        "outputId": "52181284-f6fd-4445-be93-c0b169af84b9"
      },
      "outputs": [
        {
          "data": {
            "image/png": "[encoded data removed]",
            "text/plain": [
              "<Figure size 1100x700 with 1 Axes>"
            ]
          },
          "metadata": {},
          "output_type": "display_data"
        }
      ],
      "source": [
        "categories = ['toxic', 'severe_toxic', 'obscene', 'threat', 'insult', 'identity_hate', 'non_toxic']\n",
        "\n",
        "#Добавим новый столбец `non_toxic`, который будет иметь значение 1, если соответствующий комментарий не является токсичным\n",
        "#(то есть не содержит ни одного признака токсичности из столбцов `toxic_col`), и значение 0, если комментарий является токсичным.\n",
        "toxic_col = toxic.columns[2:]\n",
        "def not_tox(row,df_col):\n",
        "  for a in df_col:\n",
        "    if row[a] == 1:\n",
        "      return 0\n",
        "  return 1\n",
        "toxic['non_toxic']=toxic.apply(lambda row: not_tox(row, toxic_col), axis=1)\n",
        "\n",
        "category_counts = toxic.iloc[:, 2:].sum()\n",
        "#Отсортируем категории в порядке убывания\n",
        "category_counts = category_counts.sort_values(ascending=False)\n",
        "#зададим цвета как на примере\n",
        "colors = ['blue', 'orange', 'green', 'red', 'purple', 'brown', 'grey']\n",
        "fig = plt.figure(figsize = (11,7))\n",
        "plt.bar(category_counts.index, category_counts, color=colors)\n",
        "plt.xlabel('Категория токсичности')\n",
        "plt.ylabel('Количество комментариев')\n",
        "plt.title('Количество комментариев для каждой категории токсичности')\n",
        "\n",
        "# Добавим подписи данных на график сверху жирным шрифтом\n",
        "for i, count in enumerate(category_counts):\n",
        "    plt.text(i, count, str(count), ha='center', va='bottom', fontweight='bold')\n",
        "\n",
        "plt.show()"
      ]
    },
    {
      "cell_type": "code",
      "execution_count": null,
      "id": "3e3538a2-5c0c-4682-8d0e-cfaadfb0fc61",
      "metadata": {
        "id": "3e3538a2-5c0c-4682-8d0e-cfaadfb0fc61",
        "outputId": "352f6a9a-9ff4-4808-d565-7c4085fc5cab"
      },
      "outputs": [
        {
          "data": {
            "text/plain": [
              "non_toxic        143346\n",
              "toxic             15294\n",
              "obscene            8449\n",
              "insult             7877\n",
              "severe_toxic       1595\n",
              "identity_hate      1405\n",
              "threat              478\n",
              "dtype: int64"
            ]
          },
          "execution_count": 6,
          "metadata": {},
          "output_type": "execute_result"
        }
      ],
      "source": [
        "category_counts"
      ]
    },
    {
      "cell_type": "markdown",
      "id": "66f26770-8f33-4dec-887a-17cd969a4560",
      "metadata": {
        "id": "66f26770-8f33-4dec-887a-17cd969a4560"
      },
      "source": [
        "## Task 2"
      ]
    },
    {
      "cell_type": "markdown",
      "id": "a32b334c-b71f-43f7-9634-26ee83f63f94",
      "metadata": {
        "id": "a32b334c-b71f-43f7-9634-26ee83f63f94"
      },
      "source": [
        "Используя библиотеку [nltk](https://www.nltk.org/) обработайте тексты комментариев:\n",
        "* Приведи текст к нижнему регистру и токенизируй\n",
        "* Оставь токены, состоящие только из английских символов\n",
        "* Убери знаки препинания, цифры\n",
        "* Убери стоп-слова из библиотки nltk\n",
        "\n",
        "Выведи количество токенов для комментария с индексом `000103f0d9cfb60f`"
      ]
    },
    {
      "cell_type": "code",
      "execution_count": null,
      "id": "a4594a13-d9b9-4fe4-aacd-60790127c716",
      "metadata": {
        "id": "a4594a13-d9b9-4fe4-aacd-60790127c716",
        "outputId": "91d77388-de6d-432d-b4e5-a657569c681f"
      },
      "outputs": [
        {
          "name": "stdout",
          "output_type": "stream",
          "text": [
            "Requirement already satisfied: nltk in c:\\users\\ксения\\appdata\\local\\programs\\python\\python311\\lib\\site-packages (3.8.1)\n",
            "Requirement already satisfied: click in c:\\users\\ксения\\appdata\\local\\programs\\python\\python311\\lib\\site-packages (from nltk) (8.1.7)\n",
            "Requirement already satisfied: joblib in c:\\users\\ксения\\appdata\\local\\programs\\python\\python311\\lib\\site-packages (from nltk) (1.3.2)\n",
            "Requirement already satisfied: regex>=2021.8.3 in c:\\users\\ксения\\appdata\\local\\programs\\python\\python311\\lib\\site-packages (from nltk) (2023.8.8)\n",
            "Requirement already satisfied: tqdm in c:\\users\\ксения\\appdata\\local\\programs\\python\\python311\\lib\\site-packages (from nltk) (4.66.1)\n",
            "Requirement already satisfied: colorama in c:\\users\\ксения\\appdata\\local\\programs\\python\\python311\\lib\\site-packages (from click->nltk) (0.4.6)\n"
          ]
        }
      ],
      "source": [
        "! pip install nltk"
      ]
    },
    {
      "cell_type": "code",
      "execution_count": null,
      "id": "d15048af-0b0e-4f3e-99c4-12c6ad865308",
      "metadata": {
        "id": "d15048af-0b0e-4f3e-99c4-12c6ad865308"
      },
      "outputs": [],
      "source": [
        "import nltk\n",
        "from nltk.corpus import stopwords\n",
        "from nltk.tokenize import word_tokenize\n",
        "from string import punctuation\n",
        "import re"
      ]
    },
    {
      "cell_type": "code",
      "execution_count": null,
      "id": "e9595da6-0ccc-4fc7-aac6-74abb64cac48",
      "metadata": {
        "id": "e9595da6-0ccc-4fc7-aac6-74abb64cac48",
        "outputId": "499f89e0-4d6a-4065-e87f-c03c03123032"
      },
      "outputs": [
        {
          "name": "stderr",
          "output_type": "stream",
          "text": [
            "[nltk_data] Downloading package punkt to\n",
            "[nltk_data]     C:\\Users\\Ксения\\AppData\\Roaming\\nltk_data...\n",
            "[nltk_data]   Package punkt is already up-to-date!\n",
            "[nltk_data] Downloading package stopwords to\n",
            "[nltk_data]     C:\\Users\\Ксения\\AppData\\Roaming\\nltk_data...\n",
            "[nltk_data]   Package stopwords is already up-to-date!\n"
          ]
        }
      ],
      "source": [
        "# Перед первым использованием, раскомментируйте следующую строку и выполните ее, чтобы скачать необходимые ресурсы\n",
        "nltk.download('punkt')\n",
        "nltk.download('stopwords')\n",
        "\n",
        "# Загружаем стоп-слова\n",
        "stopwords = set(stopwords.words('english'))\n",
        "\n",
        "def process_comment(comment):\n",
        "    # Приводим текст к нижнему регистру\n",
        "    comment = comment.lower()\n",
        "    # Токенизируем текст\n",
        "    tokens = word_tokenize(comment)\n",
        "    # Оставляем только токены состоящие из английских символов\n",
        "    tokens = [token for token in tokens if re.match('^[a-zA-Z]+$', token)]\n",
        "    # Убираем знаки препинания и цифры\n",
        "    tokens = [token for token in tokens if token not in punctuation and not token.isdigit()]\n",
        "    # Убираем стоп-слова\n",
        "    tokens = [token for token in tokens if token not in stopwords]\n",
        "\n",
        "    return tokens\n",
        "#Токенизировав комментарии мы узнали сколько слов содержится в каждом комментарии (одно слово = токен)"
      ]
    },
    {
      "cell_type": "code",
      "execution_count": null,
      "id": "6a2113a4-54de-48bf-9cb6-77d764aea4ff",
      "metadata": {
        "id": "6a2113a4-54de-48bf-9cb6-77d764aea4ff",
        "outputId": "eec87285-c049-4b52-a41b-ec3f962a7431"
      },
      "outputs": [
        {
          "name": "stdout",
          "output_type": "stream",
          "text": [
            "Количество токенов для комментария с индексом 000103f0d9cfb60f: 9\n"
          ]
        }
      ],
      "source": [
        "# Индекс комментария, для которого нужно вывести результат\n",
        "comment_index = toxic[toxic['id'] == '000103f0d9cfb60f'].index.item()\n",
        "\n",
        "# Обработка комментария и вывод количества токенов\n",
        "comment = toxic.loc[comment_index, 'comment_text']\n",
        "tokens = process_comment(comment)\n",
        "print(f\"Количество токенов для комментария с индексом 000103f0d9cfb60f: {len(tokens)}\")"
      ]
    },
    {
      "cell_type": "code",
      "execution_count": null,
      "id": "0d729091-970c-4c7c-8a14-dae5d5c556ce",
      "metadata": {
        "id": "0d729091-970c-4c7c-8a14-dae5d5c556ce",
        "outputId": "b7745769-6f8a-4f22-901c-ccd901dc22d0"
      },
      "outputs": [
        {
          "data": {
            "text/html": [
              "<div>\n",
              "<style scoped>\n",
              "    .dataframe tbody tr th:only-of-type {\n",
              "        vertical-align: middle;\n",
              "    }\n",
              "\n",
              "    .dataframe tbody tr th {\n",
              "        vertical-align: top;\n",
              "    }\n",
              "\n",
              "    .dataframe thead th {\n",
              "        text-align: right;\n",
              "    }\n",
              "</style>\n",
              "<table border=\"1\" class=\"dataframe\">\n",
              "  <thead>\n",
              "    <tr style=\"text-align: right;\">\n",
              "      <th></th>\n",
              "      <th>id</th>\n",
              "      <th>comment_text</th>\n",
              "      <th>toxic</th>\n",
              "      <th>severe_toxic</th>\n",
              "      <th>obscene</th>\n",
              "      <th>threat</th>\n",
              "      <th>insult</th>\n",
              "      <th>identity_hate</th>\n",
              "      <th>non_toxic</th>\n",
              "      <th>tokenized_comment</th>\n",
              "    </tr>\n",
              "  </thead>\n",
              "  <tbody>\n",
              "    <tr>\n",
              "      <th>0</th>\n",
              "      <td>0000997932d777bf</td>\n",
              "      <td>Explanation\\nWhy the edits made under my usern...</td>\n",
              "      <td>0</td>\n",
              "      <td>0</td>\n",
              "      <td>0</td>\n",
              "      <td>0</td>\n",
              "      <td>0</td>\n",
              "      <td>0</td>\n",
              "      <td>1</td>\n",
              "      <td>[explanation, edits, made, username, hardcore,...</td>\n",
              "    </tr>\n",
              "    <tr>\n",
              "      <th>1</th>\n",
              "      <td>000103f0d9cfb60f</td>\n",
              "      <td>D'aww! He matches this background colour I'm s...</td>\n",
              "      <td>0</td>\n",
              "      <td>0</td>\n",
              "      <td>0</td>\n",
              "      <td>0</td>\n",
              "      <td>0</td>\n",
              "      <td>0</td>\n",
              "      <td>1</td>\n",
              "      <td>[matches, background, colour, seemingly, stuck...</td>\n",
              "    </tr>\n",
              "    <tr>\n",
              "      <th>2</th>\n",
              "      <td>000113f07ec002fd</td>\n",
              "      <td>Hey man, I'm really not trying to edit war. It...</td>\n",
              "      <td>0</td>\n",
              "      <td>0</td>\n",
              "      <td>0</td>\n",
              "      <td>0</td>\n",
              "      <td>0</td>\n",
              "      <td>0</td>\n",
              "      <td>1</td>\n",
              "      <td>[hey, man, really, trying, edit, war, guy, con...</td>\n",
              "    </tr>\n",
              "    <tr>\n",
              "      <th>3</th>\n",
              "      <td>0001b41b1c6bb37e</td>\n",
              "      <td>\"\\nMore\\nI can't make any real suggestions on ...</td>\n",
              "      <td>0</td>\n",
              "      <td>0</td>\n",
              "      <td>0</td>\n",
              "      <td>0</td>\n",
              "      <td>0</td>\n",
              "      <td>0</td>\n",
              "      <td>1</td>\n",
              "      <td>[ca, make, real, suggestions, improvement, won...</td>\n",
              "    </tr>\n",
              "    <tr>\n",
              "      <th>4</th>\n",
              "      <td>0001d958c54c6e35</td>\n",
              "      <td>You, sir, are my hero. Any chance you remember...</td>\n",
              "      <td>0</td>\n",
              "      <td>0</td>\n",
              "      <td>0</td>\n",
              "      <td>0</td>\n",
              "      <td>0</td>\n",
              "      <td>0</td>\n",
              "      <td>1</td>\n",
              "      <td>[sir, hero, chance, remember, page]</td>\n",
              "    </tr>\n",
              "  </tbody>\n",
              "</table>\n",
              "</div>"
            ],
            "text/plain": [
              "                 id                                       comment_text  toxic  \\\n",
              "0  0000997932d777bf  Explanation\\nWhy the edits made under my usern...      0   \n",
              "1  000103f0d9cfb60f  D'aww! He matches this background colour I'm s...      0   \n",
              "2  000113f07ec002fd  Hey man, I'm really not trying to edit war. It...      0   \n",
              "3  0001b41b1c6bb37e  \"\\nMore\\nI can't make any real suggestions on ...      0   \n",
              "4  0001d958c54c6e35  You, sir, are my hero. Any chance you remember...      0   \n",
              "\n",
              "   severe_toxic  obscene  threat  insult  identity_hate  non_toxic  \\\n",
              "0             0        0       0       0              0          1   \n",
              "1             0        0       0       0              0          1   \n",
              "2             0        0       0       0              0          1   \n",
              "3             0        0       0       0              0          1   \n",
              "4             0        0       0       0              0          1   \n",
              "\n",
              "                                   tokenized_comment  \n",
              "0  [explanation, edits, made, username, hardcore,...  \n",
              "1  [matches, background, colour, seemingly, stuck...  \n",
              "2  [hey, man, really, trying, edit, war, guy, con...  \n",
              "3  [ca, make, real, suggestions, improvement, won...  \n",
              "4                [sir, hero, chance, remember, page]  "
            ]
          },
          "execution_count": 11,
          "metadata": {},
          "output_type": "execute_result"
        }
      ],
      "source": [
        "toxic['tokenized_comment'] = toxic['comment_text'].apply(process_comment)\n",
        "toxic.head()"
      ]
    },
    {
      "cell_type": "markdown",
      "id": "33c1178f-ed36-472b-b31b-b3479d8aecea",
      "metadata": {
        "tags": [],
        "id": "33c1178f-ed36-472b-b31b-b3479d8aecea"
      },
      "source": [
        "###### Task 3"
      ]
    },
    {
      "cell_type": "markdown",
      "id": "2a8dcd9e-62cb-40bd-ba4c-42b991f88e19",
      "metadata": {
        "id": "2a8dcd9e-62cb-40bd-ba4c-42b991f88e19"
      },
      "source": [
        "Раздели выборку на тренировачную и тестовоую с параметрами `random_state=21, test_size=0.3, shuffle=True`\n",
        "Преобразуй тексты комментариев с помощью [TF-IDF](https://scikit-learn.org/stable/modules/generated/sklearn.feature_extraction.text.TfidfVectorizer.html) с количеством признаков равный 3000. \\\n",
        "Выведи размерность тренировачной выборки после преобразования текста."
      ]
    },
    {
      "cell_type": "markdown",
      "id": "d9f4e50e-e7c8-4d95-bbfd-f379ed6b4df4",
      "metadata": {
        "id": "d9f4e50e-e7c8-4d95-bbfd-f379ed6b4df4"
      },
      "source": [
        "TF-IDF (Term Frequency-Inverse Document Frequency) - это статистическая мера, которая используется для оценки важности слова в документе или коллекции документов. Она состоит из двух компонентов: `TF` (Частота слова в документе) и `IDF` (Обратная частота документа).\n",
        "\n",
        "`TF` (Частота слова в документе) измеряет, насколько часто слово встречается в документе. Более высокое значение `TF` для слова указывает на большую важность этого слова в документе.\n",
        "\n",
        "`IDF` (Обратная частота документа) измеряет, насколько уникально слово является в коллекции документов. Слова, которые появляются редко в коллекции, имеют более высокое значение `IDF`, а слова, которые появляются часто, имеют более низкое значение `IDF`. Это позволяет отличать общие слова от более редких и информативных.\n",
        "\n",
        "TF-IDF вычисляется путем перемножения значения `TF` и значения `IDF` для каждого слов"
      ]
    },
    {
      "cell_type": "code",
      "execution_count": null,
      "id": "d113086d-9bf0-4a62-b0fa-da0d502dbc75",
      "metadata": {
        "id": "d113086d-9bf0-4a62-b0fa-da0d502dbc75"
      },
      "outputs": [],
      "source": [
        "#categories_toxic = categories.copy()\n",
        "#categories_toxic.remove('non_toxic')"
      ]
    },
    {
      "cell_type": "code",
      "execution_count": null,
      "id": "97fec116-9ba1-4b3b-8951-008a3d9e2de6",
      "metadata": {
        "id": "97fec116-9ba1-4b3b-8951-008a3d9e2de6",
        "outputId": "fb4397f3-7a91-4d7a-bb88-6082916c4786"
      },
      "outputs": [
        {
          "data": {
            "text/html": [
              "<div>\n",
              "<style scoped>\n",
              "    .dataframe tbody tr th:only-of-type {\n",
              "        vertical-align: middle;\n",
              "    }\n",
              "\n",
              "    .dataframe tbody tr th {\n",
              "        vertical-align: top;\n",
              "    }\n",
              "\n",
              "    .dataframe thead th {\n",
              "        text-align: right;\n",
              "    }\n",
              "</style>\n",
              "<table border=\"1\" class=\"dataframe\">\n",
              "  <thead>\n",
              "    <tr style=\"text-align: right;\">\n",
              "      <th></th>\n",
              "      <th>id</th>\n",
              "      <th>comment_text</th>\n",
              "      <th>toxic</th>\n",
              "      <th>severe_toxic</th>\n",
              "      <th>obscene</th>\n",
              "      <th>threat</th>\n",
              "      <th>insult</th>\n",
              "      <th>identity_hate</th>\n",
              "      <th>non_toxic</th>\n",
              "      <th>tokenized_comment</th>\n",
              "    </tr>\n",
              "  </thead>\n",
              "  <tbody>\n",
              "    <tr>\n",
              "      <th>0</th>\n",
              "      <td>0000997932d777bf</td>\n",
              "      <td>Explanation\\nWhy the edits made under my usern...</td>\n",
              "      <td>0</td>\n",
              "      <td>0</td>\n",
              "      <td>0</td>\n",
              "      <td>0</td>\n",
              "      <td>0</td>\n",
              "      <td>0</td>\n",
              "      <td>1</td>\n",
              "      <td>[explanation, edits, made, username, hardcore,...</td>\n",
              "    </tr>\n",
              "    <tr>\n",
              "      <th>1</th>\n",
              "      <td>000103f0d9cfb60f</td>\n",
              "      <td>D'aww! He matches this background colour I'm s...</td>\n",
              "      <td>0</td>\n",
              "      <td>0</td>\n",
              "      <td>0</td>\n",
              "      <td>0</td>\n",
              "      <td>0</td>\n",
              "      <td>0</td>\n",
              "      <td>1</td>\n",
              "      <td>[matches, background, colour, seemingly, stuck...</td>\n",
              "    </tr>\n",
              "    <tr>\n",
              "      <th>2</th>\n",
              "      <td>000113f07ec002fd</td>\n",
              "      <td>Hey man, I'm really not trying to edit war. It...</td>\n",
              "      <td>0</td>\n",
              "      <td>0</td>\n",
              "      <td>0</td>\n",
              "      <td>0</td>\n",
              "      <td>0</td>\n",
              "      <td>0</td>\n",
              "      <td>1</td>\n",
              "      <td>[hey, man, really, trying, edit, war, guy, con...</td>\n",
              "    </tr>\n",
              "    <tr>\n",
              "      <th>3</th>\n",
              "      <td>0001b41b1c6bb37e</td>\n",
              "      <td>\"\\nMore\\nI can't make any real suggestions on ...</td>\n",
              "      <td>0</td>\n",
              "      <td>0</td>\n",
              "      <td>0</td>\n",
              "      <td>0</td>\n",
              "      <td>0</td>\n",
              "      <td>0</td>\n",
              "      <td>1</td>\n",
              "      <td>[ca, make, real, suggestions, improvement, won...</td>\n",
              "    </tr>\n",
              "    <tr>\n",
              "      <th>4</th>\n",
              "      <td>0001d958c54c6e35</td>\n",
              "      <td>You, sir, are my hero. Any chance you remember...</td>\n",
              "      <td>0</td>\n",
              "      <td>0</td>\n",
              "      <td>0</td>\n",
              "      <td>0</td>\n",
              "      <td>0</td>\n",
              "      <td>0</td>\n",
              "      <td>1</td>\n",
              "      <td>[sir, hero, chance, remember, page]</td>\n",
              "    </tr>\n",
              "  </tbody>\n",
              "</table>\n",
              "</div>"
            ],
            "text/plain": [
              "                 id                                       comment_text  toxic  \\\n",
              "0  0000997932d777bf  Explanation\\nWhy the edits made under my usern...      0   \n",
              "1  000103f0d9cfb60f  D'aww! He matches this background colour I'm s...      0   \n",
              "2  000113f07ec002fd  Hey man, I'm really not trying to edit war. It...      0   \n",
              "3  0001b41b1c6bb37e  \"\\nMore\\nI can't make any real suggestions on ...      0   \n",
              "4  0001d958c54c6e35  You, sir, are my hero. Any chance you remember...      0   \n",
              "\n",
              "   severe_toxic  obscene  threat  insult  identity_hate  non_toxic  \\\n",
              "0             0        0       0       0              0          1   \n",
              "1             0        0       0       0              0          1   \n",
              "2             0        0       0       0              0          1   \n",
              "3             0        0       0       0              0          1   \n",
              "4             0        0       0       0              0          1   \n",
              "\n",
              "                                   tokenized_comment  \n",
              "0  [explanation, edits, made, username, hardcore,...  \n",
              "1  [matches, background, colour, seemingly, stuck...  \n",
              "2  [hey, man, really, trying, edit, war, guy, con...  \n",
              "3  [ca, make, real, suggestions, improvement, won...  \n",
              "4                [sir, hero, chance, remember, page]  "
            ]
          },
          "execution_count": 13,
          "metadata": {},
          "output_type": "execute_result"
        }
      ],
      "source": [
        "toxic.head()"
      ]
    },
    {
      "cell_type": "code",
      "execution_count": null,
      "id": "d24cd2ca-0156-4d27-a6b2-e082b45fca7b",
      "metadata": {
        "id": "d24cd2ca-0156-4d27-a6b2-e082b45fca7b",
        "outputId": "18531b4c-eabc-4407-b029-fb4d0e4383ab"
      },
      "outputs": [
        {
          "name": "stdout",
          "output_type": "stream",
          "text": [
            "Размерность тренировочной выборки после преобразования текста: (111699, 3000)\n"
          ]
        }
      ],
      "source": [
        "from sklearn.model_selection import train_test_split\n",
        "from sklearn.feature_extraction.text import TfidfVectorizer\n",
        "x = toxic['tokenized_comment'].astype(str)\n",
        "#y = toxic[categories_toxic]\n",
        "y = toxic.loc[:, toxic.columns[4:9]]\n",
        "\n",
        "#vectorizer = TfidfVectorizer(max_features=3000)\n",
        "#x=vectorizer.fit_transform(x)\n",
        "\n",
        "# Разделение выборки на тренировочную и тестовую\n",
        "x_train, x_test, y_train, y_test = train_test_split(x , y, test_size=0.3, random_state=21, shuffle=True)\n",
        "\n",
        "# Преобразование текста комментариев с помощью TF-IDF\n",
        "vectorizer = TfidfVectorizer(use_idf = True, max_features=3000) #Инициализация `TfidfVectorizer` с указанием максимального количества признаков (`max_features`). В нашем случае, установлено `max_features=3000`, что означает, что только 3000 наиболее \"важных\" признаков (слов) будут участвовать в процессе преобразования.\n",
        "x_train_tfidf = vectorizer.fit_transform(x_train) # Преобразование текста комментариев из тренировочной выборки в векторы TF-IDF\n",
        "x_test_tfidf = vectorizer.transform(x_test)\n",
        "# Вывод размерности тренировочной выборки после преобразования текста\n",
        "print(f\"Размерность тренировочной выборки после преобразования текста: {x_train_tfidf.shape}\")\n"
      ]
    },
    {
      "cell_type": "code",
      "execution_count": null,
      "id": "edb902d9-206d-4952-915b-a126acad540b",
      "metadata": {
        "id": "edb902d9-206d-4952-915b-a126acad540b"
      },
      "outputs": [],
      "source": [
        "#print(f\"Векторизированный x_train:{x_train_tfidf }\")"
      ]
    },
    {
      "cell_type": "markdown",
      "id": "510ab52e-2dc0-46b3-80b2-2f5a587593b5",
      "metadata": {
        "id": "510ab52e-2dc0-46b3-80b2-2f5a587593b5"
      },
      "source": [
        "## Task 4"
      ]
    },
    {
      "cell_type": "markdown",
      "id": "a2408435-5ee0-42b4-97c2-32740925326b",
      "metadata": {
        "id": "a2408435-5ee0-42b4-97c2-32740925326b"
      },
      "source": [
        "Реши задачу [Multi-Label](https://scikit-learn.org/stable/modules/multiclass.html) классификации используя [RidgeClassifier](https://scikit-learn.org/stable/modules/generated/sklearn.linear_model.RidgeClassifier.html#sklearn.linear_model.RidgeClassifier).\n",
        "Посчитай значение ROC-AUC для тестовой выборки."
      ]
    },
    {
      "cell_type": "code",
      "execution_count": null,
      "id": "ce606d69-4889-4aad-9cc9-67072b2044d0",
      "metadata": {
        "id": "ce606d69-4889-4aad-9cc9-67072b2044d0",
        "outputId": "a71a897d-4958-42db-ca45-ad39611a165b"
      },
      "outputs": [
        {
          "name": "stdout",
          "output_type": "stream",
          "text": [
            "Значение ROC-AUC для тестовой выборки: 0.6723021269658089\n"
          ]
        }
      ],
      "source": [
        "import numpy as np\n",
        "from sklearn.linear_model import RidgeClassifier\n",
        "from sklearn.metrics import roc_auc_score\n",
        "\n",
        "\n",
        "# Обучение модели RidgeClassifier\n",
        "ridge_clf = RidgeClassifier()\n",
        "ridge_clf.fit(x_train_tfidf, y_train)\n",
        "\n",
        "# Получение предсказаний для тестовой выборки\n",
        "y_pred = ridge_clf.predict(x_test_tfidf)\n",
        "\n",
        "# Вычисление ROC-AUC для каждой метки\n",
        "roc_auc = roc_auc_score(y_test, y_pred)\n",
        "\n",
        "print(f\"Значение ROC-AUC для тестовой выборки: {roc_auc}\")"
      ]
    },
    {
      "cell_type": "markdown",
      "id": "2dd5b405-447d-420c-9841-72f0eaf03742",
      "metadata": {
        "id": "2dd5b405-447d-420c-9841-72f0eaf03742"
      },
      "source": [
        "## Task 5"
      ]
    },
    {
      "cell_type": "markdown",
      "id": "2e8e7d65-26cf-4457-ae30-a59961fd02ca",
      "metadata": {
        "id": "2e8e7d65-26cf-4457-ae30-a59961fd02ca"
      },
      "source": [
        "Есть посмотреть на тексты токсичных комментариев, то можно заметить, что они могут повторять одни и те же слова. Или там чаще встречается `!` знаки. \\\n",
        "Кроме 'прямых' текстовых признаков, можно использоваться и эту статистику по тексту. Например, долю уникальных слов в тексте комментария или количество пунктуации в тексте.\n",
        "\n",
        "Придумай не меньше 4х признаков, которые могут помочь в обучении модели. Добавьте их к признакам TF-IDF и обучите модель.\n",
        "Получилось ли увеличить качество классификации?"
      ]
    },
    {
      "cell_type": "code",
      "execution_count": null,
      "id": "1d845a76-8401-4b80-922b-a29fe4f1826e",
      "metadata": {
        "id": "1d845a76-8401-4b80-922b-a29fe4f1826e"
      },
      "outputs": [],
      "source": [
        "#!pip install joblib\n",
        "#!pip install --upgrade scikit-learn\n",
        "#!pip install profanity-check"
      ]
    },
    {
      "cell_type": "markdown",
      "id": "e4abdbf9-4b3b-4733-b6f9-46211c46a70f",
      "metadata": {
        "id": "e4abdbf9-4b3b-4733-b6f9-46211c46a70f"
      },
      "source": [
        "1. Количество повторяющихся слов: Этот признак позволит определить, насколько часто встречаются одни и те же слова в комментариях.\n",
        "   Более высокое значение может указывать на токсичность комментария, так как токсичные комментарии часто повторяют одни и те же\n",
        "   негативные выражения или оскорбительные слова.\n",
        "\n",
        "2. Количество знаков препинания: Данный признак отражает количество использованных знаков препинания в комментарии.\n",
        "   Более высокое значение может указывать на агрессивность комментария, так как токсичные комментарии часто содержат\n",
        "   много восклицательных знаков, вопросительных знаков или других знаков препинания для передачи эмоциональной окраски.\n",
        "\n",
        "3. Доля уникальных слов: Этот признак позволяет оценить, насколько много уникальных слов используется в комментарии.\n",
        "   Большое количество уникальных слов может указывать на то, что комментарий содержит разнообразную информацию, в то время\n",
        "   как комментарии с низким значением данного признака могут быть более стереотипными и возможно содержать токсичные выражения.\n",
        "\n",
        "4. Средняя длина слова: Данный признак отражает среднюю длину слова в комментарии. Более длинные слова могут указывать на более\n",
        "   сложную или формализованную речь, в то время как более короткие слова могут указывать на более простую и возможно оскорбительную форму выражения.\n",
        "\n",
        "5. Количество матерных слов: Этот признак отражает количество матерных слов в комментарии.\n",
        "   Токсичные комментарии зачастую содержат ненормативную лексику, поэтому более высокое значение этого признака может указывать на токсичность комментария.\n",
        "\n",
        "6. Количество слов, написанных только заглавными буквами: Этот признак позволяет определить количество слов, написанных\n",
        "   только заглавными буквами в комментарии. Возможно, что восклицания или угрозы в комментарии будут записаны в верхнем регистре.\n",
        "   Поэтому более высокое значение данного признака также может указывать на токсичность комментария.\n"
      ]
    },
    {
      "cell_type": "code",
      "execution_count": null,
      "id": "f1b7316d-66f6-4873-9569-b07dc1f2ac07",
      "metadata": {
        "id": "f1b7316d-66f6-4873-9569-b07dc1f2ac07"
      },
      "outputs": [],
      "source": [
        "toxic['tokenized_comment_string'] = toxic['tokenized_comment'].apply(lambda x: ' '.join(x))"
      ]
    },
    {
      "cell_type": "code",
      "execution_count": null,
      "id": "895ab80f-6041-4e07-babd-bfb04275e911",
      "metadata": {
        "id": "895ab80f-6041-4e07-babd-bfb04275e911"
      },
      "outputs": [],
      "source": [
        "from scipy.sparse import *\n",
        "import numpy as np\n",
        "import string\n",
        "from nltk import pos_tag\n",
        "from sklearn.model_selection import train_test_split\n",
        "from sklearn.linear_model import RidgeClassifier\n",
        "from sklearn.metrics import roc_auc_score\n",
        "#from sklearn.externals import joblib\n",
        "#import profanity_check\n",
        "\n",
        "# Преобразование текста комментариев с помощью TF-IDF\n",
        "vectorizer = TfidfVectorizer(use_idf=True, max_features=3000)\n",
        "x_tfidf = vectorizer.fit_transform(toxic['comment_text'])\n",
        "\n",
        "# Функция для расчета новых признаков\n",
        "def new_features(text):\n",
        "    word_count = len(text.split())  # Количество слов в комментарии\n",
        "    repeated_words = sum(text.count(word) > 1 for word in set(text.split()))  # Количество повторяющихся слов\n",
        "    punctuation_count = sum(text.count(char) for char in string.punctuation)  # Количество знаков препинания\n",
        "    unique_words_ratio = len(set(text.split())) / word_count if word_count > 0 else 0  # Доля уникальных слов\n",
        "    average_word_length = sum(len(word) for word in text.split()) / word_count if word_count > 0 else 0  # Средняя длина слова\n",
        "    capitalized_words = len([word for word in text.split() if word.isupper()])  # Количество слов в верхнем регистре\n",
        "#profane_words = len([word for word in text.split() if profanity_check.predict([word])[0]])  # Количество матерных слов\n",
        "    return [word_count, repeated_words, average_word_length, punctuation_count, unique_words_ratio, capitalized_words]\n",
        "\n",
        "# Применение функции new_features к столбцу 'comment_text' и заполнение результатов в массив NumPy\n",
        "features_new = np.stack(toxic['comment_text'].apply(new_features).values)"
      ]
    },
    {
      "cell_type": "code",
      "execution_count": null,
      "id": "2c0a244d-8d71-4a58-8f5a-d94f81a30b3e",
      "metadata": {
        "id": "2c0a244d-8d71-4a58-8f5a-d94f81a30b3e"
      },
      "outputs": [],
      "source": [
        "# Объединение разреженной матрицы TF-IDF и массива новых признак\n",
        "x = hstack((x_tfidf, features_new))\n",
        "\n",
        "# Разделение выборки на тренировочную и тестовую\n",
        "X_train, X_test, y_train, y_test = train_test_split(x, toxic.loc[:, toxic.columns[4:9]], test_size=0.3, random_state=21, shuffle=True)\n",
        "\n",
        "# Создание экземпляра модели RidgeClassifier\n",
        "model = RidgeClassifier()\n",
        "\n",
        "# Обучение модели на тренировочной выборке\n",
        "model.fit(X_train, y_train)\n",
        "\n",
        "# Прогнозирование меток классов на тестовой выборке\n",
        "y_pred = model.predict(X_test)\n",
        "\n",
        "# Расчет ROC-AUC\n",
        "roc_auc = roc_auc_score(y_test, y_pred)\n",
        "print(\"ROC-AUC score:\", roc_auc)\n"
      ]
    },
    {
      "cell_type": "code",
      "execution_count": null,
      "id": "27622770-bcae-471d-8c0c-60679511d378",
      "metadata": {
        "id": "27622770-bcae-471d-8c0c-60679511d378"
      },
      "outputs": [],
      "source": []
    }
  ],
  "metadata": {
    "kernelspec": {
      "display_name": "Python 3 (ipykernel)",
      "language": "python",
      "name": "python3"
    },
    "language_info": {
      "codemirror_mode": {
        "name": "ipython",
        "version": 3
      },
      "file_extension": ".py",
      "mimetype": "text/x-python",
      "name": "python",
      "nbconvert_exporter": "python",
      "pygments_lexer": "ipython3",
      "version": "3.11.4"
    },
    "colab": {
      "provenance": []
    }
  },
  "nbformat": 4,
  "nbformat_minor": 5
}